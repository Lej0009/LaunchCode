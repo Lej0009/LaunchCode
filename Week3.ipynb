{
  "nbformat": 4,
  "nbformat_minor": 0,
  "metadata": {
    "colab": {
      "name": "Untitled2.ipynb",
      "provenance": [],
      "include_colab_link": true
    },
    "kernelspec": {
      "name": "python3",
      "display_name": "Python 3"
    }
  },
  "cells": [
    {
      "cell_type": "markdown",
      "metadata": {
        "id": "view-in-github",
        "colab_type": "text"
      },
      "source": [
        "<a href=\"https://colab.research.google.com/github/Lej0009/launch-code/blob/master/Week3.ipynb\" target=\"_parent\"><img src=\"https://colab.research.google.com/assets/colab-badge.svg\" alt=\"Open In Colab\"/></a>"
      ]
    },
    {
      "cell_type": "markdown",
      "metadata": {
        "id": "0-Lff44BcvGl",
        "colab_type": "text"
      },
      "source": [
        "Write a function to count how many odd numbers are in a list."
      ]
    },
    {
      "cell_type": "code",
      "metadata": {
        "id": "UGZEoQOecviC",
        "colab_type": "code",
        "colab": {
          "base_uri": "https://localhost:8080/",
          "height": 34
        },
        "outputId": "649ef98e-280c-4fec-c010-576fa88b1d0f"
      },
      "source": [
        "def odd_nums(alist):\n",
        "    counter = 0\n",
        "    \n",
        "    #counter = [counter += 1 for num in alist if num % 2 != 0]\n",
        "    for num in alist:\n",
        "        if num % 2 != 0:\n",
        "            counter += 1\n",
        "    return counter\n",
        "\n",
        "def main():\n",
        "    alist = [5, 8, 23, 10, 17, 9]\n",
        "\n",
        "    counter = odd_nums(alist)\n",
        "    print(counter)\n",
        "    \n",
        "if __name__ == \"__main__\":\n",
        "    main()"
      ],
      "execution_count": 1,
      "outputs": [
        {
          "output_type": "stream",
          "text": [
            "4\n"
          ],
          "name": "stdout"
        }
      ]
    },
    {
      "cell_type": "markdown",
      "metadata": {
        "id": "ZHvlDJk5cziC",
        "colab_type": "text"
      },
      "source": [
        "Write a Python function that will take a list of 100 random integers between 0 and 1000 (you can use iteration, append, and the random module to create a test list) and return the maximum value. (Note: there is a built-in function named max but do not use it for this exercise.)"
      ]
    },
    {
      "cell_type": "code",
      "metadata": {
        "id": "A8G42u7vc7YE",
        "colab_type": "code",
        "colab": {}
      },
      "source": [
        "import random\n",
        "\n",
        "def get_max(alist):\n",
        "    max = 0\n",
        "    \n",
        "    #max = [e for e in alist if e > max]\n",
        "    for e in alist:\n",
        "        if e > max:\n",
        "            max = e\n",
        "\n",
        "    return max\n",
        "\n",
        "def main():\n",
        "    alist = []\n",
        "    qty = 100\n",
        "\n",
        "    for i in range(qty):\n",
        "        alist.append(random.randrange(0,1000))\n",
        "\n",
        "    print(alist)\n",
        "    print(get_max(alist))\n",
        "    \n",
        "if __name__ == \"__main__\":\n",
        "    main()"
      ],
      "execution_count": 0,
      "outputs": []
    },
    {
      "cell_type": "markdown",
      "metadata": {
        "id": "RgKvrCo-c9ci",
        "colab_type": "text"
      },
      "source": [
        "Write a function sum_of_squares(xs) that computes the sum of the squares of the numbers in the list xs. For example, sum_of_squares([2, 3, 4]) should return 4+9+16 which is 29"
      ]
    },
    {
      "cell_type": "code",
      "metadata": {
        "id": "PNVcZVi8dAWq",
        "colab_type": "code",
        "colab": {
          "base_uri": "https://localhost:8080/",
          "height": 34
        },
        "outputId": "1f46d004-390a-4f6b-ee89-6dbeba0e29b7"
      },
      "source": [
        "def sum_of_squares(xs):\n",
        "    \"\"\"Computes the sum of the squares of the numbesr in the list xs.\"\"\"\n",
        "    \n",
        "    for i in range(len(xs)):\n",
        "        xs[i] = xs[i] ** 2\n",
        "        \n",
        "    #print(xs)\n",
        "    sum = 0\n",
        "    for num in range(len(xs)):\n",
        "        sum = sum + xs[num]\n",
        "\n",
        "    return sum\n",
        "\n",
        "def main():\n",
        "    xs = [1, 2, 3, 4, 5]\n",
        "   \n",
        "    print(sum_of_squares(xs))\n",
        "\n",
        "if __name__ == \"__main__\":\n",
        "    main()"
      ],
      "execution_count": 2,
      "outputs": [
        {
          "output_type": "stream",
          "text": [
            "55\n"
          ],
          "name": "stdout"
        }
      ]
    },
    {
      "cell_type": "markdown",
      "metadata": {
        "id": "bOZgFmb9dHl0",
        "colab_type": "text"
      },
      "source": [
        "Count how many words in a list have length 5."
      ]
    },
    {
      "cell_type": "code",
      "metadata": {
        "id": "O2nPL0JFdH_b",
        "colab_type": "code",
        "colab": {
          "base_uri": "https://localhost:8080/",
          "height": 34
        },
        "outputId": "bd29aa6b-0354-4cd9-e09e-57d437ca98be"
      },
      "source": [
        "def length_count(alist):\n",
        "    count = 0\n",
        "    \n",
        "    for i in range(len(alist)):\n",
        "        if len(alist[i]) >= 5:\n",
        "            count += 1\n",
        "    return count\n",
        "\n",
        "def main():\n",
        "    alist = [\"banana\", \"peach\", \"pear\", \"apple\", \"kiwi\"]\n",
        "\n",
        "    count = length_count(alist)\n",
        "    print(count)\n",
        "\n",
        "if __name__ == \"__main__\":\n",
        "    main()"
      ],
      "execution_count": 3,
      "outputs": [
        {
          "output_type": "stream",
          "text": [
            "3\n"
          ],
          "name": "stdout"
        }
      ]
    },
    {
      "cell_type": "markdown",
      "metadata": {
        "id": "ddM2zCmpdKF7",
        "colab_type": "text"
      },
      "source": [
        "Write a function replace(s, old, new) that replaces all occurences of old with new in a string s."
      ]
    },
    {
      "cell_type": "code",
      "metadata": {
        "id": "aVsFe6mJdPfj",
        "colab_type": "code",
        "colab": {
          "base_uri": "https://localhost:8080/",
          "height": 34
        },
        "outputId": "6f5453e1-e2b3-49b0-aa08-2c61618f58f0"
      },
      "source": [
        "def replace(str, old, new):\n",
        "    remove_old = str.split(old)\n",
        "    new_str = new.join(remove_old)\n",
        "    return new_str\n",
        "\n",
        "def main():\n",
        "    str = \"I love spom! Spom is my favorite food. Spom, spom, spom, yum!\"\n",
        "    old = \"om\"\n",
        "    new = \"am\"\n",
        "    new_str = replace(str, old, new)\n",
        "    \n",
        "    print(new_str)\n",
        "    \n",
        "if __name__ == \"__main__\":\n",
        "    main()"
      ],
      "execution_count": 4,
      "outputs": [
        {
          "output_type": "stream",
          "text": [
            "I love spam! Spam is my favorite food. Spam, spam, spam, yum!\n"
          ],
          "name": "stdout"
        }
      ]
    },
    {
      "cell_type": "markdown",
      "metadata": {
        "id": "iOOu-pMTdoEb",
        "colab_type": "text"
      },
      "source": [
        "Write a function that will return a string of country codes from an argument that is a string of prices (containing dollar amounts following the country codes). Your function will take as an argument a string of prices like the following: \"US$40, AU$89, JP$200\". In this example, the function would return the string \"US, AU, JP\"."
      ]
    },
    {
      "cell_type": "code",
      "metadata": {
        "id": "Scp1jPuFdqtS",
        "colab_type": "code",
        "colab": {
          "base_uri": "https://localhost:8080/",
          "height": 68
        },
        "outputId": "c944946d-de67-4063-d7c5-26f423ba667b"
      },
      "source": [
        "def get_country_codes(prices):\n",
        "    alist = prices.split(\", \")\n",
        "    new_list = \"\"    \n",
        "    new_list = [new_list + i[0] + i[1] for i in alist]\n",
        "    new_str = \", \".join(new_list)\n",
        "    \n",
        "    return new_str\n",
        "\n",
        "def main():\n",
        "    print(get_country_codes(\"NZ$300, KR$1200, DK$5\"))\n",
        "    print(get_country_codes(\"US$40, AU$89, JP$200\"))\n",
        "    print(get_country_codes(\"AU$23, NG$900, MX$200, BG$790, ES$2\"))\n",
        "    \n",
        "if __name__ == \"__main__\":\n",
        "    main()"
      ],
      "execution_count": 5,
      "outputs": [
        {
          "output_type": "stream",
          "text": [
            "NZ, KR, DK\n",
            "US, AU, JP\n",
            "AU, NG, MX, BG, ES\n"
          ],
          "name": "stdout"
        }
      ]
    },
    {
      "cell_type": "markdown",
      "metadata": {
        "id": "vVJIpagEfMSb",
        "colab_type": "text"
      },
      "source": [
        "Write a program that takes a jumbled list of numbers and puts them in order."
      ]
    },
    {
      "cell_type": "code",
      "metadata": {
        "id": "Kxx8bCzofRkJ",
        "colab_type": "code",
        "colab": {
          "base_uri": "https://localhost:8080/",
          "height": 68
        },
        "outputId": "2c1bd3fc-7f07-4822-cc44-aca7ad6b9e7a"
      },
      "source": [
        "def bubble_sort(alist):    \n",
        "    for i in range(0, len(alist) - 1):\n",
        "        for j in range(0, len(alist) - 1 - i):\n",
        "            if alist[j] > alist[j+1]:\n",
        "                alist[j], alist[j+1] = alist[j+1], alist[j]\n",
        "    return alist\n",
        "  \n",
        "def main():\n",
        "  print(bubble_sort([0]))\n",
        "  print(bubble_sort([1, 2, 3, 4, 5]))\n",
        "  print(bubble_sort([4, 5, 3, 1, 2]))\n",
        "  \n",
        "if __name__ == \"__main__\":\n",
        "    main()"
      ],
      "execution_count": 6,
      "outputs": [
        {
          "output_type": "stream",
          "text": [
            "[0]\n",
            "[1, 2, 3, 4, 5]\n",
            "[1, 2, 3, 4, 5]\n"
          ],
          "name": "stdout"
        }
      ]
    },
    {
      "cell_type": "markdown",
      "metadata": {
        "id": "8JoiGksJfy5R",
        "colab_type": "text"
      },
      "source": [
        "Write a function that will receive one argument – fullname, a string representing someone’s name – and return a string with that name’s capitalized initials."
      ]
    },
    {
      "cell_type": "code",
      "metadata": {
        "id": "gKPTmwxXf3zT",
        "colab_type": "code",
        "colab": {
          "base_uri": "https://localhost:8080/",
          "height": 51
        },
        "outputId": "02a819f5-1e1f-4e8b-eeae-d67eabaddf18"
      },
      "source": [
        "def get_initials(fullname):\n",
        "    \"\"\" Given a person's name, returns the person's initials (uppercase) \"\"\"\n",
        "    name_list = fullname.split()\n",
        "    init = \"\"\n",
        "    for name in name_list:\n",
        "        init = init + name[0]\n",
        "    return init\n",
        "\n",
        "def main():\n",
        "    fullname = input(\"What is your full name?\")\n",
        "    initials = get_initials(fullname)\n",
        "    initials.upper\n",
        "    print(initials)\n",
        "\n",
        "if __name__ == \"__main__\":\n",
        "    main()"
      ],
      "execution_count": 7,
      "outputs": [
        {
          "output_type": "stream",
          "text": [
            "What is your full name?Lauren Elizabeth Jones\n",
            "LEJ\n"
          ],
          "name": "stdout"
        }
      ]
    },
    {
      "cell_type": "markdown",
      "metadata": {
        "id": "_9naLlchgQHM",
        "colab_type": "text"
      },
      "source": [
        "Write a program that allows the user to enter a string. It then prints a table of the letters of the alphabet in alphabetical order which occur in the string together with the number of times each letter occurs."
      ]
    },
    {
      "cell_type": "code",
      "metadata": {
        "id": "C6aUIAICgTZz",
        "colab_type": "code",
        "colab": {
          "base_uri": "https://localhost:8080/",
          "height": 238
        },
        "outputId": "6a1467fc-3046-4d28-e65e-454c74e4e04e"
      },
      "source": [
        "x = input(\"Enter a sentence\")\n",
        "\n",
        "alphabet = 'abcdefghijklmnopqrstuvwxyzABCDEFGHIJKLMNOPQRSTUVWXYZ'\n",
        "\n",
        "letter_count = {} # empty dictionary\n",
        "for char in x:\n",
        "    if char in alphabet: # ignore any punctuation, numbers, etc\n",
        "        if char in letter_count:\n",
        "            letter_count[char] = letter_count[char] + 1\n",
        "        else:\n",
        "            letter_count[char] = 1\n",
        "\n",
        "keys = letter_count.keys()\n",
        "sorted(keys)\n",
        "for char in keys:\n",
        "    print(char, letter_count[char])"
      ],
      "execution_count": 11,
      "outputs": [
        {
          "output_type": "stream",
          "text": [
            "Enter a sentenceThe dog Spot went to the vet.\n",
            "T 1\n",
            "h 2\n",
            "e 4\n",
            "d 1\n",
            "o 3\n",
            "g 1\n",
            "S 1\n",
            "p 1\n",
            "t 5\n",
            "w 1\n",
            "n 1\n",
            "v 1\n"
          ],
          "name": "stdout"
        }
      ]
    },
    {
      "cell_type": "markdown",
      "metadata": {
        "id": "J213_gCDgoIF",
        "colab_type": "text"
      },
      "source": [
        "Make a dictionary where the key is a worker’s name, and the value is a list where the first element is the clock in time, second element is the clock out time, and the third element is the total hours worked that day. Each worker’s list starts at [0, 0, 0]. Create functions for clock_in and clock_out.\n",
        "\n",
        "clock_in takes the dictionary of workers, the name of the worker, and the clock in time as parameters. When the worker clocks in, enter and save their clock in time as the first element in the associated list value.\n",
        "clock_out takes the same parameters, but with a clock out time instead of clock in time. When the worker clocks out, enter and save their clock out time and calculate the hours worked for that day and store it as the third element in the list."
      ]
    },
    {
      "cell_type": "code",
      "metadata": {
        "id": "z1jxH6fig4GR",
        "colab_type": "code",
        "colab": {
          "base_uri": "https://localhost:8080/",
          "height": 51
        },
        "outputId": "04aec7b3-61f4-446e-9701-61c1213dbad7"
      },
      "source": [
        "def clock_in(worker_dict, name, clock_in_time):\n",
        "    \"\"\"When worker clocks in, enter and save their clock in time as\n",
        "    first element in the associated list value.\"\"\"\n",
        "    \n",
        "    worker_info = worker_dict.get(name)\n",
        "    worker_info[0] = clock_in_time\n",
        "    worker_dict[name] = worker_info\n",
        "        \n",
        "def clock_out(worker_dict, name, clock_out_time):\n",
        "    \"\"\"When worker clocks out, enter and save their clock out time\n",
        "    and calculate the hours worked for that day and store it as the\n",
        "    third element in the list.\"\"\"\n",
        "\n",
        "    worker_info = worker_dict.get(name)\n",
        "    worker_info[1] = clock_out_time\n",
        "    worker_info[2] = worker_info[1] - worker_info[0]\n",
        "    worker_dict[name] = worker_info\n",
        "    \n",
        "def main():\n",
        "    #create dictionary with key is workers and values is a list of \n",
        "    #[clock_in, clock_out, hours worked that day]    \n",
        "    workers = {\"George Spelvin\": [0,0,0], \"Jane Doe\": [0,0,0], \"John Smith\": [0,0,0]}\n",
        "    \n",
        "    print(workers.get(\"George Spelvin\"))   # should print [0,0,0]\n",
        "    clock_in(workers, \"George Spelvin\", 8)\n",
        "    clock_out(workers, \"George Spelvin\", 17)\n",
        "    print(workers.get(\"George Spelvin\"))   # should print [8, 17, 9]\n",
        "\n",
        "if __name__ == \"__main__\":\n",
        "    main()"
      ],
      "execution_count": 12,
      "outputs": [
        {
          "output_type": "stream",
          "text": [
            "[0, 0, 0]\n",
            "[8, 17, 9]\n"
          ],
          "name": "stdout"
        }
      ]
    },
    {
      "cell_type": "markdown",
      "metadata": {
        "id": "JIjm8OQeg_2J",
        "colab_type": "text"
      },
      "source": [
        "Write a program that asks the user for a sentence in English and then translates that sentence to Pirate."
      ]
    },
    {
      "cell_type": "code",
      "metadata": {
        "id": "WITN49z6hALa",
        "colab_type": "code",
        "colab": {
          "base_uri": "https://localhost:8080/",
          "height": 51
        },
        "outputId": "26c3d14c-e7cd-45cd-c6d2-3566d11e15ff"
      },
      "source": [
        "def translate(english):\n",
        "\n",
        "    eng2pir = {'sir':'matey', 'hotel':'fleabag inn', 'student':'swabbie', 'boy':'matey', 'madam':'proud beauty',\n",
        "               'professor':'foul blaggart', 'restaurant':'galley', 'your':'yer', 'excuse':'arr', \n",
        "               'students':'swabbie', 'are':'be', 'lawyer':'foul blaggart', \"restroom\":\"th'head\", 'my':'me',\n",
        "               'hello':'avast', 'is':'be', 'man':'matey'}\n",
        "    \n",
        "    words = english.split()\n",
        "    \n",
        "    pirate_str = \"\"\n",
        " \n",
        "    for i in words:\n",
        "        new_word = eng2pir.get(i, i)\n",
        "        pirate_str = pirate_str + str(new_word) + \" \"\n",
        "        \n",
        "    return pirate_str\n",
        "    \n",
        "def main():\n",
        "  english = input(\"Input a sentence:\")\n",
        "  print(translate(english))\n",
        "  \n",
        "if __name__ == \"__main__\":\n",
        "  main()"
      ],
      "execution_count": 17,
      "outputs": [
        {
          "output_type": "stream",
          "text": [
            "Input a sentence:hello my man, please excuse your professor to the restroom!\n",
            "avast me man, please arr yer foul blaggart to the restroom! \n"
          ],
          "name": "stdout"
        }
      ]
    },
    {
      "cell_type": "markdown",
      "metadata": {
        "id": "FPxkjtVhh2FU",
        "colab_type": "text"
      },
      "source": [
        "Write a sort_contacts function that takes a dictionary of contacts as a parameter and returns a sorted list of those contacts, where each contact is a tuple.\n",
        "\n",
        "The contacts dictionary that will be passed into the function has the contact name as its key, and the value is a tuple containing the phone number and email for the contact.\n",
        "\n",
        "contacts = {name: (phone, email), name: (phone, email), etc.}\n",
        "\n",
        "The sort_contacts function should then create a new, sorted (by last name) list of tuples representing all of the contact info (one tuple for each contact) that was in the dictionary. It should then return this list to the calling function.\n",
        "\n",
        "For example, given a dictionary argument of:\n",
        "\n",
        "{\"Horney, Karen\": (\"1-541-656-3010\", \"karen@psychoanalysis.com\"),\n",
        "\"Welles, Orson\": (\"1-312-720-8888\", \"orson@notlive.com\"),\n",
        "\"Freud, Anna\": (\"1-541-754-3010\", \"anna@psychoanalysis.com\")}\n",
        "sort_contacts should return this:\n",
        "\n",
        "[('Freud, Anna', '1-541-754-3010', 'anna@psychoanalysis.com'), ('Horney, Karen', '1-541-656-3010', 'karen@psychoanalysis.com'), ('Welles, Orson', '1-312-720-8888', 'orson@notlive.com')]"
      ]
    },
    {
      "cell_type": "code",
      "metadata": {
        "id": "ewuWoBrth_O1",
        "colab_type": "code",
        "colab": {
          "base_uri": "https://localhost:8080/",
          "height": 71
        },
        "outputId": "dfd92dc7-6ed6-47f2-c608-e8cb35114237"
      },
      "source": [
        "def sort_contacts(contacts):\n",
        "    \n",
        "    return(sorted((k,)+v for k, v in contacts.items()))\n",
        "  \n",
        "def main():\n",
        "  print(sort_contacts({\"Summitt, Pat\": (\"1-865-355-4320\", \"pat@greatcoaches.com\"),\n",
        "                         \"Rudolph, Wilma\": (\"1-410-5313-584\", \"wilma@olympians.com\")}))\n",
        "  print(sort_contacts({\"Rimbaud, Arthur\": (\"1-636-555-5555\", \"arthur@notlive.com\"),\n",
        "    \"Swinton, Tilda\": (\"1-917-222-2222\", \"tilda@greatActors.com\"),\n",
        "    \"Almodovar, Pedro\": (\"1-990-622-3892\", \"pedro@filmbuffs.com\"), \"Kandinsky, Wassily\":\n",
        "    (\"1-333-555-9999\", \"kandinsky@painters.com\")}))\n",
        "  \n",
        "if __name__ == \"__main__\":\n",
        "  main()"
      ],
      "execution_count": 20,
      "outputs": [
        {
          "output_type": "stream",
          "text": [
            "[('Rudolph, Wilma', '1-410-5313-584', 'wilma@olympians.com'), ('Summitt, Pat', '1-865-355-4320', 'pat@greatcoaches.com')]\n",
            "[('Almodovar, Pedro', '1-990-622-3892', 'pedro@filmbuffs.com'), ('Kandinsky, Wassily', '1-333-555-9999', 'kandinsky@painters.com'), ('Rimbaud, Arthur', '1-636-555-5555', 'arthur@notlive.com'), ('Swinton, Tilda', '1-917-222-2222', 'tilda@greatActors.com')]\n"
          ],
          "name": "stdout"
        }
      ]
    },
    {
      "cell_type": "markdown",
      "metadata": {
        "id": "o3bgvBJSinv6",
        "colab_type": "text"
      },
      "source": [
        "Add a distance_from_point method that works similar to distance_from_origin except that it takes a Point as a parameter and computes the distance between that point and self."
      ]
    },
    {
      "cell_type": "code",
      "metadata": {
        "id": "ihwybMYbisG-",
        "colab_type": "code",
        "colab": {
          "base_uri": "https://localhost:8080/",
          "height": 51
        },
        "outputId": "bc6e3082-e11d-4cd8-8f61-2076ea116140"
      },
      "source": [
        "import math\n",
        "\n",
        "class Point:\n",
        "\n",
        "    def __init__(self, init_x, init_y):\n",
        "        \"\"\" Create a new point at the given coordinates. \"\"\"\n",
        "        self.x = init_x\n",
        "        self.y = init_y\n",
        "\n",
        "    def get_x(self):\n",
        "        return self.x\n",
        "\n",
        "    def get_y(self):\n",
        "        return self.y\n",
        "\n",
        "    def distance_from_origin(self):\n",
        "        return ((self.x ** 2) + (self.y ** 2)) ** 0.5\n",
        "    \n",
        "    def distance_from_point(self, point):\n",
        "        diffx = point.get_x() - self.x\n",
        "        diffy = point.get_y() - self.y\n",
        "        return math.sqrt(diffy**2 + diffx**2)\n",
        "        \n",
        "    def __repr__(self):\n",
        "        return \"x=\" + str(self.x) + \", y=\" + str(self.y)\n",
        "    \n",
        "def main():\n",
        "    p = Point(3,4)\n",
        "    q = Point(7,6)\n",
        "    point = Point(6, 7)\n",
        "    \n",
        "    print(p.distance_from_point(point))\n",
        "    print(q.distance_from_point(point))\n",
        "    \n",
        "if __name__ == \"__main__\":\n",
        "    main()"
      ],
      "execution_count": 21,
      "outputs": [
        {
          "output_type": "stream",
          "text": [
            "4.242640687119285\n",
            "1.4142135623730951\n"
          ],
          "name": "stdout"
        }
      ]
    },
    {
      "cell_type": "markdown",
      "metadata": {
        "id": "wFvcZe6qiu1I",
        "colab_type": "text"
      },
      "source": [
        "Add a method reflect_x to the class Point which returns a new Point, one which is the reflection of the point across the x-axis. For example, Point(3, 5).reflect_x() is (3, -5)"
      ]
    },
    {
      "cell_type": "code",
      "metadata": {
        "id": "qslQRTZVixWg",
        "colab_type": "code",
        "colab": {
          "base_uri": "https://localhost:8080/",
          "height": 34
        },
        "outputId": "4eb5b3fc-bf80-49e6-a384-7a5f91408b13"
      },
      "source": [
        "class Point:\n",
        "\n",
        "    def __init__(self, init_x, init_y):\n",
        "        \"\"\" Create a new point at the given coordinates. \"\"\"\n",
        "        self.x = init_x\n",
        "        self.y = init_y\n",
        "\n",
        "    def get_x(self):\n",
        "        return self.x\n",
        "\n",
        "    def get_y(self):\n",
        "        return self.y\n",
        "    \n",
        "    def distance_from_origin(self):\n",
        "        return ((self.x ** 2) + (self.y ** 2)) ** 0.5\n",
        "\n",
        "    def __repr__(self):\n",
        "        return '({0},{1})'.format(self.x,self.y)\n",
        "    \n",
        "    def reflect_x(self):\n",
        "        return Point(self.x,-self.y)\n",
        "    \n",
        "def main():\n",
        "    p = Point(3 , 7)\n",
        "    p2 = p.reflect_x()\n",
        "    \n",
        "    print(p2)\n",
        "    \n",
        "if  __name__ == \"__main__\":\n",
        "    main()\n"
      ],
      "execution_count": 22,
      "outputs": [
        {
          "output_type": "stream",
          "text": [
            "(3,-7)\n"
          ],
          "name": "stdout"
        }
      ]
    },
    {
      "cell_type": "markdown",
      "metadata": {
        "id": "5FP21xSKjMvb",
        "colab_type": "text"
      },
      "source": [
        "Add a method called move that will take two parameters, call them dx and dy. The method will cause the point to move in the x and y direction the number of units given. "
      ]
    },
    {
      "cell_type": "code",
      "metadata": {
        "id": "Zr-XfrszjNN7",
        "colab_type": "code",
        "colab": {
          "base_uri": "https://localhost:8080/",
          "height": 34
        },
        "outputId": "1337a7ab-88b6-4656-ffc3-59c8b00c5e6e"
      },
      "source": [
        "class Point:\n",
        "\n",
        "    def __init__(self, init_x, init_y):\n",
        "        \"\"\" Create a new point at the given coordinates. \"\"\"\n",
        "        self.x = init_x\n",
        "        self.y = init_y\n",
        "\n",
        "    def get_x(self):\n",
        "        return self.x\n",
        "\n",
        "    def get_y(self):\n",
        "        return self.y\n",
        "\n",
        "    def distance_from_origin(self):\n",
        "        return ((self.x ** 2) + (self.y ** 2)) ** 0.5\n",
        "\n",
        "    def __repr__(self):\n",
        "        return '({0},{1})'.format(self.x,self.y)\n",
        "        #return \"x=\" + str(self.x) + \", y=\" + str(self.y)\n",
        "    \n",
        "    def move(self, move_x, move_y):\n",
        "        return Point((self.x + move_x),(self.y + move_y))\n",
        "    \n",
        "def main():\n",
        "    p = Point(4,5)\n",
        "    move_x = 2\n",
        "    move_y = 7\n",
        "    \n",
        "    print(p.move(move_x, move_y))\n",
        "\n",
        "if __name__ == \"__main__\":\n",
        "    main()"
      ],
      "execution_count": 24,
      "outputs": [
        {
          "output_type": "stream",
          "text": [
            "(6,12)\n"
          ],
          "name": "stdout"
        }
      ]
    },
    {
      "cell_type": "markdown",
      "metadata": {
        "id": "Yf_AiTYqjUWZ",
        "colab_type": "text"
      },
      "source": [
        "Create a Car class that has the following characteristics:\n",
        "\n",
        "It has a gas_level attribute.\n",
        "It has a constructor (__init__ method) that takes a float representing the initial gas level and sets the gas level of the car to this value.\n",
        "It has an add_gas method that takes a single float value and adds this amount to the current value of the gas_level attribute.\n",
        "It has a fill_up method that sets the car’s gas level up to 13.0 by adding the amount of gas necessary to reach this level. It will return a float of the amount of gas that had to be added to the car to get the gas level up to 13.0. However, if the car’s gas level was greater than or equal to 13.0 to begin with, then it doesn’t need to add anything and it simply returns a 0."
      ]
    },
    {
      "cell_type": "code",
      "metadata": {
        "id": "Bp0cauARjaOv",
        "colab_type": "code",
        "colab": {
          "base_uri": "https://localhost:8080/",
          "height": 68
        },
        "outputId": "a4ea6cc7-5767-43c0-a616-219799bb2bb1"
      },
      "source": [
        "class Car:\n",
        "    \n",
        "        def __init__(self, gas_level):\n",
        "            self.gas = gas_level\n",
        "            \n",
        "        def add_gas(self, amount):\n",
        "            return (self.gas + amount)\n",
        "        \n",
        "        def fill_up(self):\n",
        "            return (13-self.gas) if self.gas<13 else 0\n",
        "          \n",
        "def main():\n",
        "    print(Car(10).fill_up())\n",
        "    print(Car(20).fill_up())\n",
        "    print(Car(5.5).fill_up())\n",
        "    \n",
        "if __name__ == \"__main__\":\n",
        "    main()"
      ],
      "execution_count": 25,
      "outputs": [
        {
          "output_type": "stream",
          "text": [
            "3\n",
            "0\n",
            "7.5\n"
          ],
          "name": "stdout"
        }
      ]
    },
    {
      "cell_type": "markdown",
      "metadata": {
        "id": "M5d4Q5z6j0HQ",
        "colab_type": "text"
      },
      "source": [
        "Write methods to get the area and perimeter of a Rectangle. Also, add a transpose method in the Rectangle class that swaps the width and the height of any rectangle instance:"
      ]
    },
    {
      "cell_type": "code",
      "metadata": {
        "id": "MRsV1qnuj9Fx",
        "colab_type": "code",
        "colab": {
          "base_uri": "https://localhost:8080/",
          "height": 68
        },
        "outputId": "466bf236-7c46-4948-c64e-22000d236af7"
      },
      "source": [
        "class Point:\n",
        "\n",
        "    def __init__(self, init_x, init_y):\n",
        "        \"\"\" Create a new point at the given coordinates. \"\"\"\n",
        "        self.x = init_x\n",
        "        self.y = init_y\n",
        "\n",
        "    def get_x(self):\n",
        "        return self.x\n",
        "\n",
        "    def get_y(self):\n",
        "        return self.y\n",
        "\n",
        "    def distance_from_origin(self):\n",
        "        return ((self.x ** 2) + (self.y ** 2)) ** 0.5\n",
        "\n",
        "    def __repr__(self):\n",
        "        return \"x=\" + str(self.x) + \", y=\" + str(self.y)\n",
        "    \n",
        "class Rectangle:\n",
        "    \n",
        "    def __init__(self, init_p, init_w, init_h):\n",
        "        \n",
        "        self.location = init_p\n",
        "        self.width = init_w\n",
        "        self.height = init_h\n",
        "        \n",
        "    def get_width(self):\n",
        "        return self.width\n",
        "    \n",
        "    def get_height(self):\n",
        "        return self.height\n",
        "    \n",
        "    def area(self):\n",
        "        return self.width * self.height\n",
        "    \n",
        "    def perimeter(self):\n",
        "        return (self.width*2) + (self.height*2)\n",
        "    \n",
        "    def transpose(self):\n",
        "        temp = self.width\n",
        "        self.width = self.height\n",
        "        self.height = temp\n",
        "        \n",
        "    def __repr__(self):\n",
        "        return \"Rectangle with width {} and height {}\".format(self.width, self.height)\n",
        "\n",
        "def main():\n",
        "    loc = Point(4, 5)\n",
        "    r = Rectangle(loc, 6, 5)\n",
        "    print(r.area())\n",
        "    print(r.perimeter())\n",
        "    \n",
        "    r.transpose()\n",
        "    print(r)\n",
        "\n",
        "if __name__ == \"__main__\":\n",
        "    main()"
      ],
      "execution_count": 26,
      "outputs": [
        {
          "output_type": "stream",
          "text": [
            "30\n",
            "22\n",
            "Rectangle with width 5 and height 6\n"
          ],
          "name": "stdout"
        }
      ]
    },
    {
      "cell_type": "markdown",
      "metadata": {
        "id": "uweqBsn8kUo4",
        "colab_type": "text"
      },
      "source": [
        "Write a new method called contains in the Rectangle class to test if a Point falls within the rectangle. For this exercise, assume that a rectangle at (0,0) with width 10 and height 5 has open upper bounds on the width and height, i.e. it stretches in the x direction from [0 to 10), where 0 is included but 10 is excluded, and from [0 to 5) in the y direction. So it does not contain the point (10, 2)."
      ]
    },
    {
      "cell_type": "code",
      "metadata": {
        "id": "FYW_Dc6pkWgT",
        "colab_type": "code",
        "colab": {
          "base_uri": "https://localhost:8080/",
          "height": 34
        },
        "outputId": "f3308dd2-d4c8-442f-9533-704646f19a06"
      },
      "source": [
        "class Point:\n",
        "\n",
        "    def __init__(self, init_x, init_y):\n",
        "        \"\"\" Create a new point at the given coordinates. \"\"\"\n",
        "        self.x = init_x\n",
        "        self.y = init_y\n",
        "\n",
        "    def get_x(self):\n",
        "        return self.x\n",
        "\n",
        "    def get_y(self):\n",
        "        return self.y\n",
        "\n",
        "    def distance_from_origin(self):\n",
        "        return ((self.x ** 2) + (self.y ** 2)) ** 0.5\n",
        "\n",
        "    def __repr__(self):\n",
        "        return \"x=\" + str(self.x) + \", y=\" + str(self.y)\n",
        "    \n",
        "class Rectangle:\n",
        "    \n",
        "    def __init__(self, init_p, init_w, init_h):\n",
        "        \n",
        "        self.location = init_p\n",
        "        self.width = init_w\n",
        "        self.height = init_h\n",
        "        \n",
        "    def contains(self, p, loc):\n",
        "        x_in = loc.x <= p.x < (loc.x + self.width)\n",
        "        y_in = loc.y <= p.y < (loc.y + self.height)\n",
        "        return x_in and y_in == True\n",
        "                \n",
        "    def __repr__(self):\n",
        "        return \"Rectangle with width {} and height {}\".format(self.width, self.height)\n",
        "\n",
        "def main():\n",
        "    loc = Point(4, 5)\n",
        "    r = Rectangle(loc, 6, 5)\n",
        "    p = Point(1, 1)\n",
        "    \n",
        "    print(r.contains(p, loc))\n",
        "\n",
        "if __name__ == \"__main__\":\n",
        "    main()"
      ],
      "execution_count": 27,
      "outputs": [
        {
          "output_type": "stream",
          "text": [
            "False\n"
          ],
          "name": "stdout"
        }
      ]
    },
    {
      "cell_type": "markdown",
      "metadata": {
        "id": "n2aJb0NGkm3b",
        "colab_type": "text"
      },
      "source": [
        "Write a new method called diagonal that will return the length of the diagonal that runs from the lower left corner to the opposite corner."
      ]
    },
    {
      "cell_type": "code",
      "metadata": {
        "id": "_JAPENvzknrk",
        "colab_type": "code",
        "colab": {
          "base_uri": "https://localhost:8080/",
          "height": 34
        },
        "outputId": "3cc46c2a-c0a0-4306-e540-911dba822a61"
      },
      "source": [
        "class Point:\n",
        "\n",
        "    def __init__(self, init_x, init_y):\n",
        "        \"\"\" Create a new point at the given coordinates. \"\"\"\n",
        "        self.x = init_x\n",
        "        self.y = init_y\n",
        "\n",
        "    def get_x(self):\n",
        "        return self.x\n",
        "\n",
        "    def get_y(self):\n",
        "        return self.y\n",
        "\n",
        "    def distance_from_origin(self):\n",
        "        return ((self.x ** 2) + (self.y ** 2)) ** 0.5\n",
        "\n",
        "    def __repr__(self):\n",
        "        return \"x=\" + str(self.x) + \", y=\" + str(self.y)\n",
        "    \n",
        "class Rectangle:\n",
        "    \n",
        "    def __init__(self, init_p, init_w, init_h):\n",
        "        \n",
        "        self.location = init_p\n",
        "        self.width = init_w\n",
        "        self.height = init_h\n",
        "           \n",
        "    def diagonal(self):\n",
        "        d = (self.width ** 2 + self.height ** 2) ** 0.5\n",
        "        return d\n",
        "                \n",
        "    def __repr__(self):\n",
        "        return \"Rectangle with width {} and height {}\".format(self.width, self.height)\n",
        "\n",
        "def main():\n",
        "    loc = Point(4, 5)\n",
        "    r = Rectangle(loc, 6, 5)\n",
        "    p = Point(1, 1)\n",
        "    \n",
        "    print(r.diagonal())\n",
        "\n",
        "if __name__ == \"__main__\":\n",
        "    main()"
      ],
      "execution_count": 28,
      "outputs": [
        {
          "output_type": "stream",
          "text": [
            "7.810249675906654\n"
          ],
          "name": "stdout"
        }
      ]
    },
    {
      "cell_type": "markdown",
      "metadata": {
        "id": "e7idqYZ2k2O7",
        "colab_type": "text"
      },
      "source": [
        "The code below contains a Chatbot class. A Chatbot is an object that can engage in rudimentary conversation with a human. You will be asked to define a subclass that inherits from this Chatbot superclass.\n",
        "\n",
        "Your job is to make a subclass called BoredChatbot that inherits from Chatbot, but acts a little differently, in the following way:\n",
        "\n",
        "A bored chatbot has a short attention span. When the human says something that is longer than 20 characters, it should respond by saying:\n",
        "\n",
        "“zzz... Oh excuse me, I dozed off reading your essay.”\n",
        "\n",
        "If, on the other hand, the human says something with a length of 20 characters or less, then the bored chatbot should respond just like a normal chatbot would."
      ]
    },
    {
      "cell_type": "code",
      "metadata": {
        "id": "xQw3C4_rk8XY",
        "colab_type": "code",
        "colab": {
          "base_uri": "https://localhost:8080/",
          "height": 51
        },
        "outputId": "eed409a6-a914-4e65-d774-d943eee1afca"
      },
      "source": [
        "class Chatbot:\n",
        "    \"\"\" An object that can engage in rudimentary conversation with a human. \"\"\"\n",
        "\n",
        "    def __init__(self, name):\n",
        "        self.name = name\n",
        "\n",
        "    def greeting(self):\n",
        "        \"\"\" Returns the Chatbot's way of introducing itself. \"\"\"\n",
        "        return \"Hello, my name is \" + self.name\n",
        "\n",
        "    def response(self, prompt_from_human):\n",
        "        \"\"\" Returns the Chatbot's response to something the human said. \"\"\"\n",
        "        return \"It is very interesting that you say: '\" + prompt_from_human + \"'\"\n",
        "\n",
        "class BoredChatbot(Chatbot):\n",
        "    \n",
        "    def response(self, prompt_from_human):\n",
        "        \"\"\" Returns the Chatbot's response to something the human said. \"\"\"\n",
        "        if len(prompt_from_human) > 20:\n",
        "            return \"zzz... Oh excuse me, I dozed off reading your essay.\"\n",
        "        else:\n",
        "            return \"It is very interesting that you say: '\" + prompt_from_human + \"'\"\n",
        "    \n",
        "# TODO define a class called BoredChatbot\n",
        "\n",
        "karen = BoredChatbot(\"Karen\")\n",
        "# introduce the chatbot and allow the user to say something\n",
        "human_message = input(karen.greeting())\n",
        "# respond to the user\n",
        "print(karen.response(human_message))"
      ],
      "execution_count": 29,
      "outputs": [
        {
          "output_type": "stream",
          "text": [
            "Hello, my name is Karenhello can you help me with my homework? I am struggling with a concept.\n",
            "zzz... Oh excuse me, I dozed off reading your essay.\n"
          ],
          "name": "stdout"
        }
      ]
    },
    {
      "cell_type": "markdown",
      "metadata": {
        "id": "HViQeWDqlSA4",
        "colab_type": "text"
      },
      "source": [
        "Allow a message to be encrypted using any rotation amount. Ultimately, users will be able to type a message in the terminal, and specify a rotation amount (13, 4, 600, etc), and program will print the resulting encrypted message."
      ]
    },
    {
      "cell_type": "code",
      "metadata": {
        "id": "lkeClnjylSvr",
        "colab_type": "code",
        "colab": {
          "base_uri": "https://localhost:8080/",
          "height": 68
        },
        "outputId": "5f8f6f28-0daf-487e-ecee-ee233f132a78"
      },
      "source": [
        "def alphabet_position(letter):\n",
        "    '''receive a letter and return the 0-based numerical position w/in the alphabet'''\n",
        "    \n",
        "    alphabet = \"abcdefghijklmnopqrstuvwxyzABCDEFGHIJKLMNOPQRSTUVWXYZ\"\n",
        "    position = 0\n",
        "    \n",
        "    if letter.isalpha():                   #check if in alphabet\n",
        "        position = alphabet.index(letter)  #get the position\n",
        "        \n",
        "    return position\n",
        "\n",
        "def rotate_character(char, rot): \n",
        "    '''receives a character char and an integer rot. Returns the result of rotating \n",
        "    char by rot number of places to the right.'''\n",
        "    \n",
        "    alphabet = \"abcdefghijklmnopqrstuvwxyzABCDEFGHIJKLMNOPQRSTUVWXYZ\"\n",
        "    position = alphabet_position(char)\n",
        "    new_position = (position + rot) % 52\n",
        "        \n",
        "    if char.isalpha():                     #check if in alphabet\n",
        "        new_char = alphabet[new_position]  #get letter from new position, set as new_char\n",
        "    else:\n",
        "        new_char = char                    #if not in alphabet, set new_char as original char\n",
        "        \n",
        "    return new_char\n",
        "\n",
        "#from helpers import alphabet_position, rotate_character  \n",
        "  \n",
        "def encrypt(text, rot):\n",
        "    \n",
        "    encrypt_msg = ''\n",
        "    for letter in text:\n",
        "        new_letter = rotate_character(letter, rot)\n",
        "        if letter == ' ':\n",
        "            encrypt_msg += ' '\n",
        "        else:\n",
        "            encrypt_msg += new_letter\n",
        "            \n",
        "    return encrypt_msg\n",
        "\n",
        "def main():\n",
        "        \n",
        "    text = input(\"Input message:\")\n",
        "    rot = int(input(\"Input number of rotations:\"))    \n",
        "        \n",
        "    print(encrypt(text,rot))    \n",
        "    \n",
        "if __name__ == \"__main__\":\n",
        "    main()"
      ],
      "execution_count": 30,
      "outputs": [
        {
          "output_type": "stream",
          "text": [
            "Input message:The secret password is Cheese!\n",
            "Input number of rotations:15\n",
            "iwt HtrGtI EpHHLDGs xH RwttHt!\n"
          ],
          "name": "stdout"
        }
      ]
    },
    {
      "cell_type": "markdown",
      "metadata": {
        "id": "CB6NDvKVlcAZ",
        "colab_type": "text"
      },
      "source": [
        "Allow a message to be encrypted using a key. Ultimately, users will be able to type a message in the terminal, and specify a key, and program will print the resulting encrypted message using Vigenere cipher."
      ]
    },
    {
      "cell_type": "code",
      "metadata": {
        "id": "tbRtnP_wler6",
        "colab_type": "code",
        "colab": {
          "base_uri": "https://localhost:8080/",
          "height": 68
        },
        "outputId": "6c36fcca-3059-4edf-f66e-13afcaaced28"
      },
      "source": [
        "def alphabet_position(letter):\n",
        "    '''receive a letter and return the 0-based numerical position w/in the alphabet'''\n",
        "    \n",
        "    alphabet = \"abcdefghijklmnopqrstuvwxyzABCDEFGHIJKLMNOPQRSTUVWXYZ\"\n",
        "    position = 0\n",
        "    \n",
        "    if letter.isalpha():                   #check if in alphabet\n",
        "        position = alphabet.index(letter)  #get the position\n",
        "        \n",
        "    return position\n",
        "\n",
        "def rotate_character(char, rot): \n",
        "    '''receives a character char and an integer rot. Returns the result of rotating \n",
        "    char by rot number of places to the right.'''\n",
        "    \n",
        "    alphabet = \"abcdefghijklmnopqrstuvwxyzABCDEFGHIJKLMNOPQRSTUVWXYZ\"\n",
        "    position = alphabet_position(char)\n",
        "    new_position = (position + rot) % 53\n",
        "        \n",
        "    if char.isalpha():                     #check if in alphabet\n",
        "        new_char = alphabet[new_position]  #get letter from new position, set as new_char\n",
        "    else:\n",
        "        new_char = char                    #if not in alphabet, set new_char as original char\n",
        "        \n",
        "    return new_char\n",
        "  \n",
        "#from helpers import alphabet_position, rotate_character \n",
        "\n",
        "def encrypt(text, key):\n",
        "    '''Get text and a key input from user, and encrypt w/ vigenere cipher'''\n",
        "    \n",
        "    i = 0\n",
        "    encrypt_msg = ''\n",
        "    \n",
        "    for letter in text:\n",
        "        key_i = i % len(key)\n",
        "        key_pos = alphabet_position(key[key_i])\n",
        "        new_letter = rotate_character(letter, key_pos)\n",
        "                \n",
        "        if letter == ' ':\n",
        "            encrypt_msg += ' '\n",
        "        elif letter.isalpha:                        #check if in alphabet\n",
        "            encrypt_msg += new_letter\n",
        "            i += 1\n",
        "            key_i += 1\n",
        "        else:\n",
        "            encrypt_msg += letter\n",
        "            \n",
        "    return encrypt_msg\n",
        "    \n",
        "def main():\n",
        "    text = input(\"Type a message:\")\n",
        "    key = input(\"Type a key:\")\n",
        "    print(encrypt(text, key))\n",
        "        \n",
        "if __name__ == \"__main__\":\n",
        "    main()"
      ],
      "execution_count": 31,
      "outputs": [
        {
          "output_type": "stream",
          "text": [
            "Type a message:The birds migrate south in the winter.\n",
            "Type a key:boom\n",
            "Uvs njFrE nwuDbHs EpIHt jB Htf KwzusF.\n"
          ],
          "name": "stdout"
        }
      ]
    }
  ]
}