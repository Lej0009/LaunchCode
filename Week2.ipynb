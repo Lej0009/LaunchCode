{
  "nbformat": 4,
  "nbformat_minor": 0,
  "metadata": {
    "colab": {
      "name": "Untitled1.ipynb",
      "provenance": [],
      "include_colab_link": true
    },
    "kernelspec": {
      "name": "python3",
      "display_name": "Python 3"
    }
  },
  "cells": [
    {
      "cell_type": "markdown",
      "metadata": {
        "id": "view-in-github",
        "colab_type": "text"
      },
      "source": [
        "<a href=\"https://colab.research.google.com/github/Lej0009/launch-code/blob/master/Week2.ipynb\" target=\"_parent\"><img src=\"https://colab.research.google.com/assets/colab-badge.svg\" alt=\"Open In Colab\"/></a>"
      ]
    },
    {
      "cell_type": "markdown",
      "metadata": {
        "id": "FLnY-vTaN_ox",
        "colab_type": "text"
      },
      "source": [
        "Write a function which is given an exam score, and it returns the corresponding letter grade as a string according to this scheme:\n",
        "\n",
        "score\tGrade\n",
        ">= 90\tA\n",
        "[80-90)\tB\n",
        "[70-80)\tC\n",
        "[60-70)\tD\n",
        "< 60\tF\n",
        "\n",
        "The square and round brackets denote closed and open intervals, respectively. A closed interval includes the number, an open interval excludes it. So 79.99999 gets grade C , but 80 gets grade B."
      ]
    },
    {
      "cell_type": "code",
      "metadata": {
        "id": "G_ryYesROTjR",
        "colab_type": "code",
        "colab": {
          "base_uri": "https://localhost:8080/",
          "height": 51
        },
        "outputId": "16de3656-3a21-4098-dc07-cae2a79d3158"
      },
      "source": [
        "def grade(score):\n",
        "    if score >= 90:\n",
        "        return \"A\"\n",
        "    else:\n",
        "        if score >= 80:\n",
        "            return \"B\"\n",
        "        else:\n",
        "            if score >= 70:\n",
        "                return \"C\"\n",
        "            else:\n",
        "                if score >= 60:\n",
        "                    return \"D\"\n",
        "                else:\n",
        "                    return \"F\"\n",
        "def main():\n",
        "    score = int(input(\"What is the score?\"))\n",
        "    print( \"A score of\", str(score), \"is a(n)\", grade(score))\n",
        "\n",
        "if __name__ == \"__main__\":\n",
        "    main()"
      ],
      "execution_count": 1,
      "outputs": [
        {
          "output_type": "stream",
          "text": [
            "What is the score?72\n",
            "A score of 72 is a(n) C\n"
          ],
          "name": "stdout"
        }
      ]
    },
    {
      "cell_type": "markdown",
      "metadata": {
        "id": "4pmFKLuvOdoh",
        "colab_type": "text"
      },
      "source": [
        "Modify the turtle bar chart program from the previous chapter so that the bar for any value of 200 or more is filled with red, values between (101 and 200) are filled yellow, and bars representing values less than 100 are filled green."
      ]
    },
    {
      "cell_type": "code",
      "metadata": {
        "id": "_DI1JU7wPWrA",
        "colab_type": "code",
        "colab": {}
      },
      "source": [
        "import turtle\n",
        "\n",
        "def draw_bar(t, height):\n",
        "    \"\"\" Get turtle t to draw one bar, of height. \"\"\"\n",
        "   \n",
        "    if height >=  200:\n",
        "        t.fillcolor(\"red\")\n",
        "    elif 100 < height < 200:\n",
        "        t.fillcolor(\"yellow\")\n",
        "    else:\n",
        "        t.fillcolor(\"green\")\n",
        "\n",
        "    t.begin_fill()               # start filling this shape\n",
        "    t.left(90)\n",
        "    t.forward(height)\n",
        "    t.write(str(height))\n",
        "    t.right(90)\n",
        "    t.forward(40)\n",
        "    t.right(90)\n",
        "    t.forward(height)\n",
        "    t.left(90)\n",
        "    t.end_fill()                 # stop filling this shape\n",
        "\n",
        "def main():\n",
        "    data = [48, 117, 200, 240, 160, 260, 220]\n",
        "    max_height = max(data)\n",
        "    num_bars = len(data)\n",
        "    border = 10\n",
        "\n",
        "    wn = turtle.Screen()             # Set up the window and its attributes\n",
        "    wn.setworldcoordinates(0-border, 0-border, 40 * num_bars + border, max_height + border)\n",
        "    wn.bgcolor(\"lightgreen\")\n",
        "\n",
        "    tess = turtle.Turtle()           # create tess and set some attributes\n",
        "    tess.color(\"blue\")\n",
        "    \n",
        "    tess.pensize(3)\n",
        "\n",
        "    for x in data:\n",
        "        draw_bar(tess, x)\n",
        "\n",
        "    wn.exitonclick()\n",
        "\n",
        "if __name__ == \"__main__\":\n",
        "    main()\n"
      ],
      "execution_count": 0,
      "outputs": []
    },
    {
      "cell_type": "markdown",
      "metadata": {
        "id": "nqIPug-yRny1",
        "colab_type": "text"
      },
      "source": [
        "Create a function is_odd that uses a call to function is_even to determine if its argument is an odd integer."
      ]
    },
    {
      "cell_type": "code",
      "metadata": {
        "id": "nFfvWqWBRobQ",
        "colab_type": "code",
        "colab": {
          "base_uri": "https://localhost:8080/",
          "height": 51
        },
        "outputId": "adf694da-012f-4e8b-a906-5b678c52ca36"
      },
      "source": [
        "def is_even(n):\n",
        "    if n % 2 == 0:\n",
        "        return(\"True, number is even\")\n",
        "    else:\n",
        "        return(\"False, number is odd\")\n",
        "\n",
        "def is_odd(n):\n",
        "    if is_even(n)== \"True, number is even\":\n",
        "        return(\"Number is even.\")\n",
        "    else:\n",
        "        return(\"Number is odd.\")\n",
        "    \n",
        "def main():\n",
        "    n = int(input(\"Input an integer:\"))\n",
        "    print(is_odd(n))\n",
        "    \n",
        "if __name__ == \"__main__\":\n",
        "    main()\n"
      ],
      "execution_count": 16,
      "outputs": [
        {
          "output_type": "stream",
          "text": [
            "Input an integer:31\n",
            "Number is odd.\n"
          ],
          "name": "stdout"
        }
      ]
    },
    {
      "cell_type": "markdown",
      "metadata": {
        "id": "PQNtTBXsRwEh",
        "colab_type": "text"
      },
      "source": [
        "Write a fruitful function called pick_activity to help you pick an activity to engage in based on the current weather. It has two parameters, one for how hot it is and one for how wet it is. If it is hot and wet, it should tell you to watch Netflix. If it hot and dry, it should tell you to go swimming. If it is cold and wet, it should tell you to paint. If it is cold and dry, it should tell you to go to a cafe and read. Use the elif construct."
      ]
    },
    {
      "cell_type": "code",
      "metadata": {
        "id": "ibjRqcmIRwi4",
        "colab_type": "code",
        "colab": {
          "base_uri": "https://localhost:8080/",
          "height": 68
        },
        "outputId": "c6ed5654-8369-4c31-b939-a97b8c66c44e"
      },
      "source": [
        "def pick_activity(temp, moisture):\n",
        "    if temp == \"hot\" and moisture == \"wet\":\n",
        "        return(\"Watch Netflix\")\n",
        "    elif temp == \"hot\" and moisture == \"dry\":\n",
        "        return(\"Go swimming\")\n",
        "    elif temp == \"cold\" and moisture == \"wet\":\n",
        "        return(\"Go paint\")\n",
        "    else:\n",
        "        return(\"Go to a cafe and read\")\n",
        "    \n",
        "def main():\n",
        "  temp = input(\"Is the temperature hot or cold?\")\n",
        "  moisture = input(\"Is is wet or dry outside?\")\n",
        "  \n",
        "  print(pick_activity(temp, moisture))\n",
        "  \n",
        "if __name__ == \"__main__\":\n",
        "  main()\n"
      ],
      "execution_count": 17,
      "outputs": [
        {
          "output_type": "stream",
          "text": [
            "Is the temperature hot or cold?cold\n",
            "Is is wet or dry outside?dry\n",
            "Go to a cafe and read\n"
          ],
          "name": "stdout"
        }
      ]
    },
    {
      "cell_type": "markdown",
      "metadata": {
        "id": "Z0Z9ZS3PSzOM",
        "colab_type": "text"
      },
      "source": [
        "Write a function is_rightangled which, given the length of three sides of a triangle, will determine whether the triangle is right-angled. It will return True if the triangle is right-angled, or False otherwise. Write the program so that the sides can be given to the function in any order."
      ]
    },
    {
      "cell_type": "code",
      "metadata": {
        "id": "IH7ENg2kSz9I",
        "colab_type": "code",
        "colab": {
          "base_uri": "https://localhost:8080/",
          "height": 85
        },
        "outputId": "a60f56d6-630f-4cc9-a1f0-557ad56a0c19"
      },
      "source": [
        "def is_rightangled(a, b, c):\n",
        "    if  c > a and c > b:\n",
        "        if abs((c**2)-(a**2 + b**2)) < 0.001: \n",
        "            return True\n",
        "        else:\n",
        "            return False\n",
        "    elif b > a and b > c:\n",
        "        if abs((b**2)-(a**2 + c**2)) < 0.001:\n",
        "            return True\n",
        "        else:\n",
        "            return False\n",
        "    else:\n",
        "        if abs((a**2)-(b**2 + c**2)) < 0.001:\n",
        "            return True\n",
        "        else:\n",
        "            return False\n",
        "          \n",
        "def main():\n",
        "  a = float(input(\"Input the length of the one side of the triangle:\"))\n",
        "  b = float(input(\"Input the length of another side of the triangle:\"))\n",
        "  c = float(input(\"Input the length of the last side of the triangle:\"))\n",
        "  \n",
        "  print(is_rightangled(a, b, c))\n",
        "  \n",
        "if __name__ == \"__main__\":\n",
        "  main()"
      ],
      "execution_count": 19,
      "outputs": [
        {
          "output_type": "stream",
          "text": [
            "Input the length of the one side of the triangle:16.0\n",
            "Input the length of another side of the triangle:4.0\n",
            "Input the length of the last side of the triangle:8.2\n",
            "False\n"
          ],
          "name": "stdout"
        }
      ]
    },
    {
      "cell_type": "markdown",
      "metadata": {
        "id": "YLwHaxswTLdO",
        "colab_type": "text"
      },
      "source": [
        "Implement the calculator for the date of Easter.\n",
        "\n",
        "The following algorithm computes the date for Easter Sunday for any year between 1900 to 2099.\n",
        "\n",
        "Ask the user to enter a year. Compute the following:\n",
        "\n",
        "a = year % 19;\n",
        "b = year % 4;\n",
        "c = year % 7;\n",
        "d = (19 * a + 24) % 30;\n",
        "e = (2 * b + 4 * c + 6 * d + 5) % 7;\n",
        "date = 22 + d + e"
      ]
    },
    {
      "cell_type": "code",
      "metadata": {
        "id": "tJHZRo0YTMba",
        "colab_type": "code",
        "colab": {
          "base_uri": "https://localhost:8080/",
          "height": 51
        },
        "outputId": "b16bb59d-5b65-46a1-c807-2cea0ab0d8ea"
      },
      "source": [
        "def date_of_easter(year):\n",
        "    if year >= 1900 and year <= 2099:\n",
        "        a = year % 19\n",
        "        b = year % 4\n",
        "        c = year % 7\n",
        "        d = (19*a + 24) % 30\n",
        "        e = (2*b + 4*c + 6*d + 5) % 7\n",
        "        date = 22 + d + e\n",
        "\n",
        "        if year == 1954 or year == 1981 or year == 2049 or year == 2076:\n",
        "            date = date - 7\n",
        "\n",
        "        if date > 31:\n",
        "            return(\"April \" + str(date - 31))\n",
        "        else:\n",
        "            return(\"March \" + str(date))\n",
        "    else:\n",
        "        return(\"ERROR, year is out of range\")\n",
        "\n",
        "def main():\n",
        "    year = int(input(\"Please enter a year\"))\n",
        "    print(date_of_easter(year))\n",
        "\n",
        "if __name__ == \"__main__\":\n",
        "    main()\n"
      ],
      "execution_count": 20,
      "outputs": [
        {
          "output_type": "stream",
          "text": [
            "Please enter a year1998\n",
            "April 12\n"
          ],
          "name": "stdout"
        }
      ]
    },
    {
      "cell_type": "markdown",
      "metadata": {
        "id": "L13JvpipTTp7",
        "colab_type": "text"
      },
      "source": [
        "A year is a leap year if it is divisible by 4, unless it is a century that is not divisible by 400.\n",
        "\n",
        "For example:\n",
        "\n",
        "1956 is a leap year because 1956 is divisible by 4.\n",
        "1957 is not a leap year, because it is not divisible by 4.\n",
        "1900 is not a leap year, despite the fact that it is divisible by 4, because 1900 is a century and 1900 is not divisible by 400.\n",
        "1600 is a leap year, because 1600 is divisible by 4 and 1600 is divisible by 400\n",
        "\n",
        "Write a function is_leap that takes a year as a parameter and returns True if the year is a leap year, False otherwise."
      ]
    },
    {
      "cell_type": "code",
      "metadata": {
        "id": "f0Ji0C7dTb5Y",
        "colab_type": "code",
        "colab": {
          "base_uri": "https://localhost:8080/",
          "height": 51
        },
        "outputId": "be8b1f4d-d87e-4ea5-c814-0383cc6fd280"
      },
      "source": [
        "def is_leap(year):\n",
        "    if year % 400 == 0:\n",
        "        return True\n",
        "    elif year % 100 == 0:\n",
        "        return False\n",
        "    elif year % 4 == 0:\n",
        "        return True\n",
        "    else:\n",
        "        return False\n",
        "      \n",
        "def main():\n",
        "  year = int(input(\"Input the year:\"))\n",
        "  print(is_leap(year))\n",
        "  \n",
        "if __name__ == \"__main__\":\n",
        "    main()"
      ],
      "execution_count": 21,
      "outputs": [
        {
          "output_type": "stream",
          "text": [
            "Input the year:1944\n",
            "True\n"
          ],
          "name": "stdout"
        }
      ]
    },
    {
      "cell_type": "markdown",
      "metadata": {
        "id": "QN__NDrvUO54",
        "colab_type": "text"
      },
      "source": [
        "Write a function rectangle(width, height) that returns a rectangle of the width and height given by the parameters. "
      ]
    },
    {
      "cell_type": "code",
      "metadata": {
        "id": "xeNU7tBPUZth",
        "colab_type": "code",
        "colab": {}
      },
      "source": [
        "def line(n):\n",
        "    linestr = \"\"\n",
        "    for i in range(n):\n",
        "        linestr = linestr + \"#\"\n",
        "    return linestr\n",
        "\n",
        "def rectangle(n, height):\n",
        "    rectstr = \"\"\n",
        "    for i in range(height):\n",
        "        rectstr += (line(n) + '\\n')\n",
        "    return rectstr\n",
        "\n",
        "def main():\n",
        "    print(rectangle(3,5))\n",
        "    \n",
        "\n",
        "if __name__ == \"__main__\":\n",
        "    main()"
      ],
      "execution_count": 0,
      "outputs": []
    },
    {
      "cell_type": "markdown",
      "metadata": {
        "id": "yoLTpQXiUhjH",
        "colab_type": "text"
      },
      "source": [
        "Write a function diamond(n) that returns a diamond where the triangle formed by the top portion has height n. "
      ]
    },
    {
      "cell_type": "code",
      "metadata": {
        "id": "3J-5GKkZUiBS",
        "colab_type": "code",
        "colab": {}
      },
      "source": [
        "def space_line(spaces, hashes):\n",
        "    return spaces * ' ' + hashes * '#'\n",
        "\n",
        "def triangle(n):\n",
        "    triangle_str = ''\n",
        "    for i in range(n):\n",
        "        triangle_str += (space_line(n-i-1, 2*i+1) + '\\n')\n",
        "    return triangle_str\n",
        "\n",
        "def diamond(n):\n",
        "    diamond_str = triangle(n)\n",
        "    for i in range(n-2, -1, -1):\n",
        "        diamond_str += (space_line(n-i-1, 2*i+1) + '\\n')\n",
        "    return diamond_str\n",
        "\n",
        "def main():\n",
        "    print(diamond(5))\n",
        "\n",
        "if __name__ == \"__main__\":\n",
        "    main()"
      ],
      "execution_count": 0,
      "outputs": []
    },
    {
      "cell_type": "markdown",
      "metadata": {
        "id": "6GCFvv3bUvI_",
        "colab_type": "text"
      },
      "source": [
        "Write a function print_triangular_numbers(n) that prints out the first n triangular numbers. A call to print_triangular_numbers(5) would produce the following output:\n",
        "\n",
        "1\n",
        "3\n",
        "6\n",
        "10\n",
        "15"
      ]
    },
    {
      "cell_type": "code",
      "metadata": {
        "id": "lZTS9L1UUv54",
        "colab_type": "code",
        "colab": {
          "base_uri": "https://localhost:8080/",
          "height": 170
        },
        "outputId": "30ef3f3d-6cf1-4fa1-d8e2-d2b74fef8404"
      },
      "source": [
        "def print_triangular_numbers(n):\n",
        "    i = 0\n",
        "    \n",
        "    while i < n:\n",
        "        i += 1\n",
        "        print(((i**2)+i)//2)     \n",
        "              \n",
        "print_triangular_numbers(9)"
      ],
      "execution_count": 23,
      "outputs": [
        {
          "output_type": "stream",
          "text": [
            "1\n",
            "3\n",
            "6\n",
            "10\n",
            "15\n",
            "21\n",
            "28\n",
            "36\n",
            "45\n"
          ],
          "name": "stdout"
        }
      ]
    },
    {
      "cell_type": "markdown",
      "metadata": {
        "id": "5yjHcTr4Vbmv",
        "colab_type": "text"
      },
      "source": [
        "Suppose we want to entertain ourselves by watching turtles wander around randomly inside the screen. When we run the program we want it to behave in the following way:\n",
        "\n",
        "The turtles each have a random starting location.\n",
        "Flip a coin. If it’s heads then the turtles turn left 90 degrees. If it’s tails then the turtles turn right 90 degrees.\n",
        "The turtles take 50 steps forward.\n",
        "Keep the turtles moving until one of them leaves the screen."
      ]
    },
    {
      "cell_type": "code",
      "metadata": {
        "id": "K9J3Z85IV2Nm",
        "colab_type": "code",
        "colab": {}
      },
      "source": [
        "import random\n",
        "import turtle\n",
        "\n",
        "def is_in_screen(screen, t):\n",
        "    left_bound = - screen.window_width() / 2\n",
        "    right_bound = screen.window_width() / 2\n",
        "    top_bound = screen.window_height() / 2\n",
        "    bottom_bound = -screen.window_height() / 2\n",
        "\n",
        "    turtle_x = t.xcor()\n",
        "    turtle_y = t.ycor()\n",
        "\n",
        "    still_in = True\n",
        "    if turtle_x > right_bound or turtle_x < left_bound:\n",
        "        still_in = False\n",
        "    if turtle_y > top_bound or turtle_y < bottom_bound:\n",
        "        still_in = False\n",
        "\n",
        "    return still_in\n",
        "\n",
        "def main():\n",
        "    julia = turtle.Turtle()\n",
        "    maria = turtle.Turtle()\n",
        "    screen = turtle.Screen()\n",
        "\n",
        "    julia.shape('turtle')\n",
        "    maria.shape('turtle')\n",
        "    while is_in_screen(screen, julia) and is_in_screen(screen, maria):\n",
        "        coin = random.randrange(0, 2)\n",
        "        if coin == 0:\n",
        "            julia.left(random.randrange(0,360))\n",
        "            maria.left(random.randrange(0,360))\n",
        "        else:\n",
        "            julia.right(random.randrange(0,360))\n",
        "            maria.right(random.randrange(0,360))\n",
        "\n",
        "        julia.forward(50)\n",
        "        maria.forward(50)\n",
        "\n",
        "    screen.exitonclick()\n",
        "\n",
        "if __name__ == \"__main__\":\n",
        "    main()"
      ],
      "execution_count": 0,
      "outputs": []
    },
    {
      "cell_type": "markdown",
      "metadata": {
        "id": "si6CIa-BV3iu",
        "colab_type": "text"
      },
      "source": [
        "Write a program that is a weight training app that coaches users on how much weight they should lift for each of these three lifts: squat, bench, and deadlift. The program begins by having the user lift only 10 pounds for each lift. Each time they complete a set for a particular lift and say they are ready for the next set, add 10 pounds to the weight of their previous set and print a message that this is the new weight they should lift. The sets are all done for one lift at a time. For each lift, beginning with the squat, the function workout_coach should be called with the name of the lift and the current weight. It should print a message to the user like the following: \"Time to squat 10 pounds! You got this!\" Keep calling workout_coach for as long as the user answers \"yes\" to the following question: \"Keep doing the squat? Enter yes for the next set\", filling in the name of the lift depending on which lift in the iteration they are on. If the user answers anything other than \"yes\", stop calling workout_coach for that particular lift, and move on to repeat the process for the next lift (unless its the deadlift, which is the last lift and thus once the user decides to stop at this point the program quits). If the current weight is greater than 200 pounds for the bench, the program stops calling workout_coach."
      ]
    },
    {
      "cell_type": "code",
      "metadata": {
        "id": "4bQuieoSXFKT",
        "colab_type": "code",
        "colab": {
          "base_uri": "https://localhost:8080/",
          "height": 153
        },
        "outputId": "350a5e54-b55e-4c71-83c4-3563b4b495ae"
      },
      "source": [
        "def workout_coach(lift_name, wt):\n",
        "    print(\"Time to\", lift_name, wt, \"pounds! You got this!\")\n",
        "\n",
        "def main():\n",
        "    lifts = [\"squat\", \"bench\", \"deadlift\"]\n",
        "    \n",
        "    for lift in lifts:\n",
        "        keep_lifting = \"yes\"\n",
        "        weight = 0\n",
        "        input_prompt = \"Keep doing the \" + lift + \"? Enter yes for the next set.\"\n",
        "        while keep_lifting == \"yes\":\n",
        "            weight = weight + 10\n",
        "            if lift == \"bench\" and weight > 200:\n",
        "                break\n",
        "            else:\n",
        "                workout_coach(lift, weight)\n",
        "            keep_lifting = input(input_prompt)\n",
        "\n",
        "if __name__ == \"__main__\":\n",
        "    main()"
      ],
      "execution_count": 25,
      "outputs": [
        {
          "output_type": "stream",
          "text": [
            "Time to squat 10 pounds! You got this!\n",
            "Keep doing the squat? Enter yes for the next set.yes\n",
            "Time to squat 20 pounds! You got this!\n",
            "Keep doing the squat? Enter yes for the next set.no\n",
            "Time to bench 10 pounds! You got this!\n",
            "Keep doing the bench? Enter yes for the next set.no\n",
            "Time to deadlift 10 pounds! You got this!\n",
            "Keep doing the deadlift? Enter yes for the next set.no\n"
          ],
          "name": "stdout"
        }
      ]
    },
    {
      "cell_type": "markdown",
      "metadata": {
        "id": "4Ep5tbEwXkZA",
        "colab_type": "text"
      },
      "source": [
        "Write a program to remove all the red from an image."
      ]
    },
    {
      "cell_type": "code",
      "metadata": {
        "id": "Bv8YdUlrXk2e",
        "colab_type": "code",
        "colab": {}
      },
      "source": [
        "import image\n",
        "img_luther = image.Image(\"luther.jpg\")\n",
        "\n",
        "new_luther = image.EmptyImage(img_luther.getWidth(), img_luther.getHeight())\n",
        "win = image.ImageWin(img_luther.getWidth(), img_luther.getHeight())\n",
        "\n",
        "for col in range(img_luther.getWidth()):\n",
        "    for row in range(img_luther.getHeight()):\n",
        "        pixel = img_luther.getPixel(col, row)\n",
        "        \n",
        "        no_red = 0\n",
        "        green = pixel.getGreen()\n",
        "        blue = pixel.getBlue()\n",
        "        \n",
        "        new_pixel = image.Pixel(no_red, green, blue)\n",
        "        \n",
        "        new_luther.setPixel(col, row, new_pixel)\n",
        "        \n",
        "new_luther.draw(win)\n",
        "win.exitonclick()\n"
      ],
      "execution_count": 0,
      "outputs": []
    },
    {
      "cell_type": "markdown",
      "metadata": {
        "id": "iKrbLOjSXvJB",
        "colab_type": "text"
      },
      "source": [
        "Write a function to convert the image to grayscale."
      ]
    },
    {
      "cell_type": "code",
      "metadata": {
        "id": "410jq8cSXwNT",
        "colab_type": "code",
        "colab": {}
      },
      "source": [
        "import image\n",
        "\n",
        "def make_black_white(input_image):\n",
        "    new_img = image.EmptyImage(input_image.getWidth(), input_image.getHeight())\n",
        "    \n",
        "    for x in range(input_image.getWidth()):\n",
        "        for y in range(input_image.getHeight()):\n",
        "            p = input_image.getPixel(x,y)\n",
        "        \n",
        "            red = p.getRed()\n",
        "            green = p.getGreen()\n",
        "            blue = p.getBlue()\n",
        "        \n",
        "            avg = (red+green+blue)/3\n",
        "\n",
        "            newp = image.Pixel(avg,avg,avg)\n",
        "        \n",
        "            new_img.setPixel(x,y,newp)\n",
        "        \n",
        "    return new_img        \n",
        "        \n",
        "def main(): \n",
        "    img = image.Image(\"luther.jpg\")\n",
        "    win = image.ImageWin(img.getWidth(), img.getHeight())\n",
        "    \n",
        "    new_img = make_black_white(img)\n",
        "    \n",
        "    new_img.draw(win)\n",
        "    win.exitonclick()\n",
        "\n",
        "if __name__ == '__main__':\n",
        "    main()\n"
      ],
      "execution_count": 0,
      "outputs": []
    },
    {
      "cell_type": "markdown",
      "metadata": {
        "id": "BS0nMe4zYCJX",
        "colab_type": "text"
      },
      "source": [
        "Write a function to convert an image to black and white."
      ]
    },
    {
      "cell_type": "code",
      "metadata": {
        "id": "xGn0dJWuYCmj",
        "colab_type": "code",
        "colab": {}
      },
      "source": [
        "import image\n",
        "\n",
        "def make_black_white(input_image):\n",
        "    gray_img = image.EmptyImage(input_image.getWidth(), input_image.getHeight())\n",
        "    \n",
        "    \n",
        "    for x in range(input_image.getWidth()):\n",
        "        for y in range(input_image.getHeight()):\n",
        "            p = input_image.getPixel(x,y)\n",
        "        \n",
        "            red = p.getRed()\n",
        "            green = p.getGreen()\n",
        "            blue = p.getBlue()\n",
        "        \n",
        "            avg = (red+green+blue)/3\n",
        "\n",
        "            newp = image.Pixel(avg,avg,avg)\n",
        "        \n",
        "            gray_img.setPixel(x,y,newp)\n",
        "            \n",
        "            \n",
        "    bw_img = image.EmptyImage(input_image.getWidth(), input_image.getHeight())\n",
        "    \n",
        "    for x in range(input_image.getWidth()):\n",
        "        for y in range(input_image.getHeight()):\n",
        "            p = gray_img.getPixel(x,y)\n",
        "            red = p.getRed()\n",
        "            if red > 140:\n",
        "                val = 255\n",
        "            else:\n",
        "                val = 0\n",
        "\n",
        "            newp= image.Pixel(val, val, val)\n",
        "            bw_img.setPixel(x,y, newp)\n",
        "\n",
        "    return bw_img        \n",
        "        \n",
        "def main(): \n",
        "    img = image.Image(\"luther.jpg\")\n",
        "    win = image.ImageWin(img.getWidth(), img.getHeight())\n",
        "    \n",
        "    bw_img = make_black_white(img)\n",
        "    \n",
        "    bw_img.draw(win)\n",
        "    win.exitonclick()\n",
        "\n",
        "if __name__ == '__main__':\n",
        "    main()"
      ],
      "execution_count": 0,
      "outputs": []
    },
    {
      "cell_type": "markdown",
      "metadata": {
        "id": "rSzKK-IMYFwG",
        "colab_type": "text"
      },
      "source": [
        "Write a function to convert an image to sepia tone. "
      ]
    },
    {
      "cell_type": "code",
      "metadata": {
        "id": "dBVhNpdaYI9X",
        "colab_type": "code",
        "colab": {}
      },
      "source": [
        "import image\n",
        "win = image.ImageWin()\n",
        "img = image.Image(\"luther.jpg\")\n",
        "\n",
        "for x in range(img.getWidth()):\n",
        "    for y in range(img.getHeight()):\n",
        "        p = img.getPixel(x,y)\n",
        "        \n",
        "        r = p.getRed()\n",
        "        g = p.getGreen()\n",
        "        b = p.getBlue()\n",
        "        new_red = (r * 0.393 + g * 0.769 + b * 0.189)\n",
        "        new_green = (r * 0.349 + g * 0.686 + b * 0.168)\n",
        "        new_blue = (r * 0.272 + g * 0.534 + b * 0.131)\n",
        "\n",
        "        newp = image.Pixel(new_red, new_green, new_blue)\n",
        "        \n",
        "        img.setPixel(x,y,newp)\n",
        "        \n",
        "img.draw(win)\n",
        "win.exitonclick()\n"
      ],
      "execution_count": 0,
      "outputs": []
    },
    {
      "cell_type": "markdown",
      "metadata": {
        "id": "JEs3xiypYQzW",
        "colab_type": "text"
      },
      "source": [
        "Write a function to uniformly enlarge an image by a factor of 2 (in other words, make the image twice as wide and twice as tall)."
      ]
    },
    {
      "cell_type": "code",
      "metadata": {
        "id": "NM5cquXrYRgW",
        "colab_type": "code",
        "colab": {}
      },
      "source": [
        "import image\n",
        "\n",
        "def double(small_image):\n",
        "    small_w = small_image.getWidth()\n",
        "    small_h = small_image.getHeight()\n",
        "    \n",
        "    new_img = image.EmptyImage(small_w * 2, small_h * 2)\n",
        "    for x in range(small_w):\n",
        "        for y in range(small_h):\n",
        "            small_p = small_image.getPixel(x,y)\n",
        "            \n",
        "            new_img.setPixel(2*x, 2*y, small_p)\n",
        "            new_img.setPixel(2*x+1, 2*y, small_p)\n",
        "            new_img.setPixel(2*x, 2*y+1, small_p)\n",
        "            new_img.setPixel(2*x+1, 2*y+1, small_p)\n",
        "            \n",
        "    return new_img\n",
        "\n",
        "def main():\n",
        "    img = image.Image(\"luther.jpg\")\n",
        "    win = image.ImageWin(img.getWidth() * 2, img.getHeight() * 2)\n",
        "\n",
        "    big_img = double(img)\n",
        "    big_img.draw(win)\n",
        "\n",
        "    win.exitonclick()\n",
        "    \n",
        "if __name__ == '__main__':\n",
        "    main()"
      ],
      "execution_count": 0,
      "outputs": []
    },
    {
      "cell_type": "markdown",
      "metadata": {
        "id": "M7gVuM18Y4mY",
        "colab_type": "text"
      },
      "source": [
        "Write a course_grader function that takes a list of test scores as its parameter. It will add up these test scores and calculate an average score. It should then return a message of \"pass\" or \"fail\" depending on these two conditions:\n",
        "\n",
        "If the average score is greater than or equal to 70 and no single test score is below 50, then return a message of \"pass\".\n",
        "If the average score is lower than 70 or at least one test score is below 50, then return a message of \"fail\"."
      ]
    },
    {
      "cell_type": "code",
      "metadata": {
        "id": "hpRSY4JvY5sg",
        "colab_type": "code",
        "colab": {
          "base_uri": "https://localhost:8080/",
          "height": 102
        },
        "outputId": "91f38cdd-1348-41f2-f5a9-c9c3945476fd"
      },
      "source": [
        "def course_grader(test_scores):\n",
        "    avg_score = sum(test_scores) / len(test_scores)\n",
        "    \n",
        "    if avg_score >= 70 and min(test_scores) > 50:\n",
        "        return 'pass'\n",
        "    else:\n",
        "        return 'fail'\n",
        "         \n",
        "\n",
        "def main():\n",
        "    print(course_grader([100,75,45]))\n",
        "    print(course_grader([100,70,85]))\n",
        "    print(course_grader([80,60,60]))\n",
        "    print(course_grader([80,80,90,30,80]))\n",
        "    print(course_grader([70,70,70,70,70]))\n",
        "\n",
        "if __name__ == \"__main__\":\n",
        "    main()"
      ],
      "execution_count": 28,
      "outputs": [
        {
          "output_type": "stream",
          "text": [
            "fail\n",
            "pass\n",
            "fail\n",
            "fail\n",
            "pass\n"
          ],
          "name": "stdout"
        }
      ]
    },
    {
      "cell_type": "markdown",
      "metadata": {
        "id": "irZnQsgVZc62",
        "colab_type": "text"
      },
      "source": [
        "Write a function that removes the first occurrence of a string from another string."
      ]
    },
    {
      "cell_type": "code",
      "metadata": {
        "id": "Ys8Vhjy2ZeSW",
        "colab_type": "code",
        "colab": {
          "base_uri": "https://localhost:8080/",
          "height": 68
        },
        "outputId": "8b07681a-facc-4a44-fb61-2a4139dc0d83"
      },
      "source": [
        "def remove(substr,original_string):\n",
        "    '''Removes the first occurence of a string from another string'''\n",
        "    index = original_string.find(substr)\n",
        "    \n",
        "    if index < 0:       #if substr is not found in original string\n",
        "        return original_string\n",
        "    new_str = original_string[:index] + original_string[index + len(substr):]\n",
        "    return new_str\n",
        "  \n",
        "def main():\n",
        "  original_string = input(\"Input text:\")\n",
        "  substr = input(\"Input text to remove:\")\n",
        "  \n",
        "  print(remove(substr, original_string))\n",
        "  \n",
        "if __name__ == \"__main__\":\n",
        "    main()\n",
        "  "
      ],
      "execution_count": 31,
      "outputs": [
        {
          "output_type": "stream",
          "text": [
            "Input text:bicycle\n",
            "Input text to remove:cyc\n",
            "bile\n"
          ],
          "name": "stdout"
        }
      ]
    },
    {
      "cell_type": "markdown",
      "metadata": {
        "id": "puAo7NjMaKCg",
        "colab_type": "text"
      },
      "source": [
        "Write a function reverse that receives a string argument, and returns a reversed version of the string."
      ]
    },
    {
      "cell_type": "code",
      "metadata": {
        "id": "ToK0YB38aKoG",
        "colab_type": "code",
        "colab": {
          "base_uri": "https://localhost:8080/",
          "height": 51
        },
        "outputId": "b0920c1f-9d13-4f75-80f0-f5b66b86304d"
      },
      "source": [
        "def reverse(text):\n",
        "    '''Receives a string argument, and returns a reversed version of the string.'''\n",
        "\n",
        "    new_str = text[::-1]\n",
        "    \n",
        "    return new_str\n",
        "  \n",
        "def main():\n",
        "  text = input(\"Input text:\")\n",
        "  print(reverse(text))\n",
        "  \n",
        "if __name__ == \"__main__\":\n",
        "    main()  "
      ],
      "execution_count": 32,
      "outputs": [
        {
          "output_type": "stream",
          "text": [
            "Input text:Python\n",
            "nohtyP\n"
          ],
          "name": "stdout"
        }
      ]
    },
    {
      "cell_type": "markdown",
      "metadata": {
        "id": "LkNsGysnaWcV",
        "colab_type": "text"
      },
      "source": [
        "Write a function that recognizes palindromes."
      ]
    },
    {
      "cell_type": "code",
      "metadata": {
        "id": "aEih9CBAaY_1",
        "colab_type": "code",
        "colab": {
          "base_uri": "https://localhost:8080/",
          "height": 51
        },
        "outputId": "78ad953a-64bc-4a49-c544-bc57e017b8b3"
      },
      "source": [
        "def reverse(text):\n",
        "    '''Receives a string argument, and returns a reversed version of the string.'''\n",
        "\n",
        "    new_str = text[::-1]    \n",
        "    return new_str\n",
        "\n",
        "def is_palindrome(text):\n",
        "    '''Recognizes palindromes'''\n",
        "    if reverse(text) == text:\n",
        "        return True\n",
        "    return False\n",
        "  \n",
        "def main():\n",
        "  text = input(\"Input text:\")\n",
        "  print(is_palindrome(text))\n",
        "  \n",
        "if __name__ == \"__main__\":\n",
        "    main() "
      ],
      "execution_count": 33,
      "outputs": [
        {
          "output_type": "stream",
          "text": [
            "Input text:abba\n",
            "True\n"
          ],
          "name": "stdout"
        }
      ]
    },
    {
      "cell_type": "markdown",
      "metadata": {
        "id": "3zVZXjupaqrK",
        "colab_type": "text"
      },
      "source": [
        "Write a function that mirrors its argument. For example, mirror('good') should return a string holding the value gooddoog. "
      ]
    },
    {
      "cell_type": "code",
      "metadata": {
        "id": "Pj0tw4LdarNG",
        "colab_type": "code",
        "colab": {
          "base_uri": "https://localhost:8080/",
          "height": 51
        },
        "outputId": "87f78e10-ee6d-493a-a09d-b449e3ba491e"
      },
      "source": [
        "def mirror(text):\n",
        "    '''Receives a string argument, and returns the mirror version of the string.'''\n",
        "    if len(text) == 0:\n",
        "        return text\n",
        "    return text + reverse(text[1:]) + text[0]\n",
        "\n",
        "def reverse(text):\n",
        "    '''Receives a string argument, and returns a reversed version of the string.'''\n",
        "    new_str = text[::-1]    \n",
        "    return new_str\n",
        "  \n",
        "def main():\n",
        "  text = input(\"Input text:\")\n",
        "  print(mirror(text))\n",
        "  \n",
        "if __name__ == \"__main__\":\n",
        "    main() "
      ],
      "execution_count": 34,
      "outputs": [
        {
          "output_type": "stream",
          "text": [
            "Input text:Python\n",
            "PythonnohtyP\n"
          ],
          "name": "stdout"
        }
      ]
    },
    {
      "cell_type": "markdown",
      "metadata": {
        "id": "pS7qIuhda4x-",
        "colab_type": "text"
      },
      "source": [
        "Write a function that implements a substitution cipher. In a substitution cipher one letter is substituted for another to garble the message. For example A -> Q, B -> T, C -> G etc. your function should take two parameters, the message you want to encrypt, and a string that represents the mapping of the 26 letters in the alphabet. Your function should return a string that is the encrypted version of the message."
      ]
    },
    {
      "cell_type": "code",
      "metadata": {
        "id": "wWJt50YRa5Ov",
        "colab_type": "code",
        "colab": {
          "base_uri": "https://localhost:8080/",
          "height": 51
        },
        "outputId": "da9f0694-485a-45c4-ffa2-7fbe9d4bed91"
      },
      "source": [
        "def encrypt(message, key):\n",
        "    alphabet = \"abcdefghijklmnopqrstuvwxyz\"\n",
        "    encrypted_msg = ''\n",
        "    for char in message:\n",
        "        if char == ' ':\n",
        "            encrypted_msg = encrypted_msg + ' '\n",
        "        else:\n",
        "            position = alphabet.index(char)\n",
        "            encrypted_msg = encrypted_msg + key[position]\n",
        "    return encrypted_msg\n",
        "\n",
        "def main():\n",
        "    key = \"zyxwvutsrqponmlkjihgfedcba\"\n",
        "    message = input(\"Input message to encrypt:\")\n",
        "    encrypted = encrypt(message, key)\n",
        "    print(encrypted)\n",
        "  \n",
        "if __name__ == \"__main__\":\n",
        "    main() "
      ],
      "execution_count": 39,
      "outputs": [
        {
          "output_type": "stream",
          "text": [
            "Input message to encrypt:hello world\n",
            "svool dliow\n"
          ],
          "name": "stdout"
        }
      ]
    },
    {
      "cell_type": "markdown",
      "metadata": {
        "id": "gPUuzMviboMl",
        "colab_type": "text"
      },
      "source": [
        "Write a function called rot13 that uses the Caesar cipher to encrypt a message. The Caesar cipher works like a substitution cipher but each character is replaced by the character 13 characters to “its right” in the alphabet. So for example the letter “a” becomes the letter “n”. If a letter is past the middle of the alphabet then the counting wraps around to the letter “a” again, so “n” becomes “a”, “o” becomes “b” and so on."
      ]
    },
    {
      "cell_type": "code",
      "metadata": {
        "id": "wnwBXJd4bsMW",
        "colab_type": "code",
        "colab": {
          "base_uri": "https://localhost:8080/",
          "height": 68
        },
        "outputId": "d3e17100-6126-4900-9e18-7b620c5e2bce"
      },
      "source": [
        "def rot13(message):\n",
        "    '''Function to use Caesar cipher to encrypt message. Characters replaced by the\n",
        "    13 characters to its right in the alphabet'''\n",
        "    \n",
        "    alphabet = \"abcdefghijklmnopqrstuvwxyz\"\n",
        "    encrypted_msg = ''\n",
        "    for char in message:\n",
        "        if char == ' ':\n",
        "            encrypted_msg = encrypted_msg + ' '\n",
        "        else:\n",
        "            position = (alphabet.index(char)+13) % 26\n",
        "            encrypted_msg = encrypted_msg + alphabet[position]\n",
        "    return encrypted_msg\n",
        "    \n",
        "\n",
        "def main():\n",
        "    print(rot13('abcde'))\n",
        "    print(rot13('the crow flies straight ahead'))\n",
        "    print(rot13(rot13('since rot thirteen is symmetric you should see this message')))\n",
        "\n",
        "if __name__ == \"__main__\":\n",
        "    main()"
      ],
      "execution_count": 42,
      "outputs": [
        {
          "output_type": "stream",
          "text": [
            "nopqr\n",
            "gur pebj syvrf fgenvtug nurnq\n",
            "since rot thirteen is symmetric you should see this message\n"
          ],
          "name": "stdout"
        }
      ]
    },
    {
      "cell_type": "markdown",
      "metadata": {
        "id": "3wgzRvV-b-4V",
        "colab_type": "text"
      },
      "source": [
        "Write a function analyze_text that receives a string as input. Your function should count the number of alphabetic characters (a through z, or A through Z) in the text and also keep track of how many are the letter 'e' (upper or lowercase).\n",
        "\n",
        "Your function should return an analysis of the text in the form of a string phrased exactly like this:\n",
        "\n",
        "“The text contains 240 alphabetic characters, of which 105 (43.75%) are ‘e’.”"
      ]
    },
    {
      "cell_type": "code",
      "metadata": {
        "id": "q0um4KKWb_yc",
        "colab_type": "code",
        "colab": {
          "base_uri": "https://localhost:8080/",
          "height": 51
        },
        "outputId": "574b73d6-e3ed-404a-ed3a-efbdbc6099c9"
      },
      "source": [
        "def analyze_text(text):\n",
        "    count = 0\n",
        "    letter_count = 0\n",
        "    for eletter in text:\n",
        "        if eletter.isalpha():\n",
        "            count = count +1\n",
        "            if eletter == \"e\" or eletter == \"E\":\n",
        "                letter_count = letter_count + 1\n",
        "            percent = letter_count / count\n",
        "            real_percent = percent * 100\n",
        "            \n",
        "            \n",
        "    result = \"The text contains {0} alphabetic characters, of which {1} ({2}%) are 'e'.\"\n",
        "    result2 = result.format(count, letter_count, real_percent)\n",
        "    return result2\n",
        "  \n",
        "def main():\n",
        "  text = input(\"Input text:\")\n",
        "  print(analyze_text(text))\n",
        "  \n",
        "if __name__ == \"__main__\":\n",
        "    main()"
      ],
      "execution_count": 43,
      "outputs": [
        {
          "output_type": "stream",
          "text": [
            "Input text:Lions are carnivores.\n",
            "The text contains 18 alphabetic characters, of which 2 (11.11111111111111%) are 'e'.\n"
          ],
          "name": "stdout"
        }
      ]
    }
  ]
}