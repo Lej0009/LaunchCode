{
  "nbformat": 4,
  "nbformat_minor": 0,
  "metadata": {
    "colab": {
      "name": "crypto.ipynb",
      "provenance": [],
      "include_colab_link": true
    },
    "kernelspec": {
      "name": "python3",
      "display_name": "Python 3"
    }
  },
  "cells": [
    {
      "cell_type": "markdown",
      "metadata": {
        "id": "view-in-github",
        "colab_type": "text"
      },
      "source": [
        "<a href=\"https://colab.research.google.com/github/Lej0009/launch-code/blob/master/crypto.ipynb\" target=\"_parent\"><img src=\"https://colab.research.google.com/assets/colab-badge.svg\" alt=\"Open In Colab\"/></a>"
      ]
    },
    {
      "cell_type": "markdown",
      "metadata": {
        "id": "OfWoPDYvzGYg",
        "colab_type": "text"
      },
      "source": [
        "Crypto challenge.\n",
        "\n",
        "Allow a message to be encrypted using any rotation amount. Ultimately, users will be able to type a message in the terminal, and specify a rotation amount (13, 4, 600, etc), and program will print the resulting encrypted message."
      ]
    },
    {
      "cell_type": "code",
      "metadata": {
        "id": "71alva2WzL6-",
        "colab_type": "code",
        "colab": {
          "base_uri": "https://localhost:8080/",
          "height": 202
        },
        "outputId": "d52ddce0-dedb-4023-d22f-94174257ba76"
      },
      "source": [
        "def alphabet_position(letter):\n",
        "    '''receive a letter and return the 0-based numerical position w/in the alphabet'''\n",
        "    \n",
        "    alphabet = \"abcdefghijklmnopqrstuvwxyzABCDEFGHIJKLMNOPQRSTUVWXYZ\"\n",
        "    position = 0\n",
        "    \n",
        "    if letter.isalpha():                   #check if in alphabet\n",
        "        position = alphabet.index(letter)  #get the position\n",
        "        \n",
        "    return position\n",
        "\n",
        "def rotate_character(char, rot): \n",
        "    '''receives a character char and an integer rot. Returns the result of rotating \n",
        "    char by rot number of places to the right.'''\n",
        "    \n",
        "    alphabet = \"abcdefghijklmnopqrstuvwxyzABCDEFGHIJKLMNOPQRSTUVWXYZ\"\n",
        "    position = alphabet_position(char)\n",
        "    new_position = (position + rot) % 52\n",
        "        \n",
        "    if char.isalpha():                     #check if in alphabet\n",
        "        new_char = alphabet[new_position]  #get letter from new position, set as new_char\n",
        "    else:\n",
        "        new_char = char                    #if not in alphabet, set new_char as original char\n",
        "        \n",
        "    return new_char\n",
        "\n",
        "#from helpers import alphabet_position, rotate_character  \n",
        "  \n",
        "def encrypt(text, rot):\n",
        "    \n",
        "    encrypt_msg = ''\n",
        "    for letter in text:\n",
        "        new_letter = rotate_character(letter, rot)\n",
        "        if letter == ' ':\n",
        "            encrypt_msg += ' '\n",
        "        else:\n",
        "            encrypt_msg += new_letter\n",
        "            \n",
        "    return encrypt_msg\n",
        "\n",
        "def main():\n",
        "    from sys import argv, exit\n",
        "        \n",
        "    if argv[1].isdigit() == True:\n",
        "        text = input(\"Input message:\")\n",
        "        rot = int(argv[1])    \n",
        "        print(encrypt(text, rot))\n",
        "    else:\n",
        "        print(\"\"\"usage: python vigenere.py rotation amount\n",
        "Arguments:\n",
        "-rotation amount : This is how many positions to the right your encryption key will be. Should only contain an integer-- no alphabetic or special characters.\"\"\")\n",
        "        exit()\n",
        "        \n",
        "    \n",
        "if __name__ == \"__main__\":\n",
        "    main()"
      ],
      "execution_count": 2,
      "outputs": [
        {
          "output_type": "stream",
          "text": [
            "usage: python vigenere.py rotation amount\n",
            "Arguments:\n",
            "-rotation amount : This is how many positions to the right your encryption key will be. Should only contain an integer-- no alphabetic or special characters.\n"
          ],
          "name": "stdout"
        },
        {
          "output_type": "error",
          "ename": "SystemExit",
          "evalue": "ignored",
          "traceback": [
            "An exception has occurred, use %tb to see the full traceback.\n",
            "\u001b[0;31mSystemExit\u001b[0m\n"
          ]
        },
        {
          "output_type": "stream",
          "text": [
            "/usr/local/lib/python3.6/dist-packages/IPython/core/interactiveshell.py:2890: UserWarning: To exit: use 'exit', 'quit', or Ctrl-D.\n",
            "  warn(\"To exit: use 'exit', 'quit', or Ctrl-D.\", stacklevel=1)\n"
          ],
          "name": "stderr"
        }
      ]
    }
  ]
}