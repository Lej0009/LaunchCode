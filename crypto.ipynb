{
  "nbformat": 4,
  "nbformat_minor": 0,
  "metadata": {
    "colab": {
      "name": "crypto.ipynb",
      "provenance": [],
      "include_colab_link": true
    },
    "kernelspec": {
      "name": "python3",
      "display_name": "Python 3"
    }
  },
  "cells": [
    {
      "cell_type": "markdown",
      "metadata": {
        "id": "view-in-github",
        "colab_type": "text"
      },
      "source": [
        "<a href=\"https://colab.research.google.com/github/Lej0009/launch-code/blob/master/crypto.ipynb\" target=\"_parent\"><img src=\"https://colab.research.google.com/assets/colab-badge.svg\" alt=\"Open In Colab\"/></a>"
      ]
    },
    {
      "cell_type": "markdown",
      "metadata": {
        "id": "OfWoPDYvzGYg",
        "colab_type": "text"
      },
      "source": [
        "Crypto challenge.\n",
        "\n",
        "Allow a message to be encrypted using any rotation amount. Ultimately, users will be able to type a message in the terminal, and specify a rotation amount (13, 4, 600, etc), and program will print the resulting encrypted message."
      ]
    },
    {
      "cell_type": "code",
      "metadata": {
        "id": "71alva2WzL6-",
        "colab_type": "code",
        "colab": {
          "base_uri": "https://localhost:8080/",
          "height": 70
        },
        "outputId": "eb401327-2bf0-4836-aa4e-72dbf907bda2"
      },
      "source": [
        "def alphabet_position(letter):\n",
        "    '''receive a letter and return the 0-based numerical position w/in the alphabet'''\n",
        "    \n",
        "    alphabet = \"abcdefghijklmnopqrstuvwxyzABCDEFGHIJKLMNOPQRSTUVWXYZ\"\n",
        "    position = 0\n",
        "    \n",
        "    if letter.isalpha():                   #check if in alphabet\n",
        "        position = alphabet.index(letter)  #get the position\n",
        "        \n",
        "    return position\n",
        "\n",
        "def rotate_character(char, rot): \n",
        "    '''receives a character char and an integer rot. Returns the result of rotating \n",
        "    char by rot number of places to the right.'''\n",
        "    \n",
        "    alphabet = \"abcdefghijklmnopqrstuvwxyzABCDEFGHIJKLMNOPQRSTUVWXYZ\"\n",
        "    position = alphabet_position(char)\n",
        "    new_position = (position + rot) % 52\n",
        "        \n",
        "    if char.isalpha():                     #check if in alphabet\n",
        "        new_char = alphabet[new_position]  #get letter from new position, set as new_char\n",
        "    else:\n",
        "        new_char = char                    #if not in alphabet, set new_char as original char\n",
        "        \n",
        "    return new_char\n",
        "\n",
        "#from helpers import alphabet_position, rotate_character  \n",
        "  \n",
        "def encrypt(text, rot):\n",
        "    \n",
        "    encrypt_msg = ''\n",
        "    for letter in text:\n",
        "        new_letter = rotate_character(letter, rot)\n",
        "        if letter == ' ':\n",
        "            encrypt_msg += ' '\n",
        "        else:\n",
        "            encrypt_msg += new_letter\n",
        "            \n",
        "    return encrypt_msg\n",
        "\n",
        "def main():\n",
        "        \n",
        "    text = input(\"Input message:\")\n",
        "    rot = int(input(\"Input number of rotations:\"))    \n",
        "        \n",
        "    print(encrypt(text,rot))    \n",
        "    \n",
        "if __name__ == \"__main__\":\n",
        "    main()"
      ],
      "execution_count": 3,
      "outputs": [
        {
          "output_type": "stream",
          "text": [
            "Input message:Hi Giovanni!\n",
            "Input number of rotations:5\n",
            "Mn LntAfssn!\n"
          ],
          "name": "stdout"
        }
      ]
    },
    {
      "cell_type": "markdown",
      "metadata": {
        "id": "-iK-FC9y3jId",
        "colab_type": "text"
      },
      "source": [
        "Allow a message to be encrypted using a key. Ultimately, users will be able to type a message in the terminal, and specify a key, and program will print the resulting encrypted message using Vigenere cipher."
      ]
    },
    {
      "cell_type": "code",
      "metadata": {
        "id": "EPt7ajoO33L8",
        "colab_type": "code",
        "colab": {
          "base_uri": "https://localhost:8080/",
          "height": 70
        },
        "outputId": "4c8b8778-0112-4cfb-f3fe-add0c9842aa4"
      },
      "source": [
        "def alphabet_position(letter):\n",
        "    '''receive a letter and return the 0-based numerical position w/in the alphabet'''\n",
        "    \n",
        "    alphabet = \"abcdefghijklmnopqrstuvwxyzABCDEFGHIJKLMNOPQRSTUVWXYZ\"\n",
        "    position = 0\n",
        "    \n",
        "    if letter.isalpha():                   #check if in alphabet\n",
        "        position = alphabet.index(letter)  #get the position\n",
        "        \n",
        "    return position\n",
        "\n",
        "def rotate_character(char, rot): \n",
        "    '''receives a character char and an integer rot. Returns the result of rotating \n",
        "    char by rot number of places to the right.'''\n",
        "    \n",
        "    alphabet = \"abcdefghijklmnopqrstuvwxyzABCDEFGHIJKLMNOPQRSTUVWXYZ\"\n",
        "    position = alphabet_position(char)\n",
        "    new_position = (position + rot) % 53\n",
        "        \n",
        "    if char.isalpha():                     #check if in alphabet\n",
        "        new_char = alphabet[new_position]  #get letter from new position, set as new_char\n",
        "    else:\n",
        "        new_char = char                    #if not in alphabet, set new_char as original char\n",
        "        \n",
        "    return new_char\n",
        "  \n",
        "#from helpers import alphabet_position, rotate_character \n",
        "\n",
        "def encrypt(text, key):\n",
        "    '''Get text and a key input from user, and encrypt w/ vigenere cipher'''\n",
        "    \n",
        "    i = 0\n",
        "    encrypt_msg = ''\n",
        "    \n",
        "    for letter in text:\n",
        "        key_i = i % len(key)\n",
        "        key_pos = alphabet_position(key[key_i])\n",
        "        new_letter = rotate_character(letter, key_pos)\n",
        "                \n",
        "        if letter == ' ':\n",
        "            encrypt_msg += ' '\n",
        "        elif letter.isalpha:                        #check if in alphabet\n",
        "            encrypt_msg += new_letter\n",
        "            i += 1\n",
        "            key_i += 1\n",
        "        else:\n",
        "            encrypt_msg += letter\n",
        "            \n",
        "    return encrypt_msg\n",
        "    \n",
        "def main():\n",
        "    text = input(\"Type a message:\")\n",
        "    key = input(\"Type a key:\")\n",
        "    print(encrypt(text, key))\n",
        "        \n",
        "if __name__ == \"__main__\":\n",
        "    main()"
      ],
      "execution_count": 5,
      "outputs": [
        {
          "output_type": "stream",
          "text": [
            "Type a message:Hi Giovanni!\n",
            "Type a key:boom\n",
            "Iw UupJozow!\n"
          ],
          "name": "stdout"
        }
      ]
    }
  ]
}