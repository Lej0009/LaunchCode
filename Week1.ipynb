{
  "nbformat": 4,
  "nbformat_minor": 0,
  "metadata": {
    "colab": {
      "name": "Untitled0.ipynb",
      "provenance": [],
      "include_colab_link": true
    },
    "kernelspec": {
      "name": "python3",
      "display_name": "Python 3"
    }
  },
  "cells": [
    {
      "cell_type": "markdown",
      "metadata": {
        "id": "view-in-github",
        "colab_type": "text"
      },
      "source": [
        "<a href=\"https://colab.research.google.com/github/Lej0009/launch-code/blob/master/Week1.ipynb\" target=\"_parent\"><img src=\"https://colab.research.google.com/assets/colab-badge.svg\" alt=\"Open In Colab\"/></a>"
      ]
    },
    {
      "cell_type": "markdown",
      "metadata": {
        "id": "UYdzVwVmIeDu",
        "colab_type": "text"
      },
      "source": [
        "Using a 24 hour clock, if it is currently 13 and you set your alarm to go off in 50 hours, the hour will be 15 (3pm). Write a program to solve the general version of the above problem. Ask the user for the current time (in hours), and then ask for the number of hours to wait for the alarm.\n",
        "\n",
        "Your program should output what the hour will be on the clock when the alarm goes off."
      ]
    },
    {
      "cell_type": "code",
      "metadata": {
        "id": "caCviiUTIkcO",
        "colab_type": "code",
        "colab": {
          "base_uri": "https://localhost:8080/",
          "height": 68
        },
        "outputId": "9feec202-c94a-4c28-ba5e-3bd5353c620a"
      },
      "source": [
        "str_current_time = input(\"What is the current time (in hours)?\")\n",
        "str_hours_until_alarm = input(\"In how many hours do you want your alarm to go off?\")\n",
        "\n",
        "current_time = int(str_current_time)\n",
        "hours_until_alarm = int(str_hours_until_alarm)\n",
        "\n",
        "alarm_time = (current_time + hours_until_alarm) % 24\n",
        "\n",
        "print(alarm_time)"
      ],
      "execution_count": 2,
      "outputs": [
        {
          "output_type": "stream",
          "text": [
            "What is the current time (in hours)?15\n",
            "In how many hours do you want your alarm to go off?10\n",
            "1\n"
          ],
          "name": "stdout"
        }
      ]
    },
    {
      "cell_type": "markdown",
      "metadata": {
        "id": "nv9RgWlnItaM",
        "colab_type": "text"
      },
      "source": [
        "Write a Python program that assigns the principal amount of 10000 to variable P, assign to n the value 12, and assign to r the interest rate of 8% (0.08). Then have the program prompt the user for the number of years, t, that the money will be compounded for. Calculate and print the final amount after t years."
      ]
    },
    {
      "cell_type": "code",
      "metadata": {
        "id": "53GheEQlJKsj",
        "colab_type": "code",
        "colab": {
          "base_uri": "https://localhost:8080/",
          "height": 51
        },
        "outputId": "11a55d00-f821-45c6-bc2c-9cea203c6f8e"
      },
      "source": [
        "p = 10000\n",
        "n = 12\n",
        "r = .08\n",
        "str_t = input(\"What is the number of years the money will be compounded for?\")\n",
        "t = int(str_t)\n",
        "a = p * (1 + (r/n))**(n*t)\n",
        "\n",
        "print(a)"
      ],
      "execution_count": 3,
      "outputs": [
        {
          "output_type": "stream",
          "text": [
            "What is the number of years the money will be compounded for?12\n",
            "26033.8924391382\n"
          ],
          "name": "stdout"
        }
      ]
    },
    {
      "cell_type": "markdown",
      "metadata": {
        "id": "Pe3GW08VJPRU",
        "colab_type": "text"
      },
      "source": [
        "Write a program that will convert degrees Celsius to degrees Fahrenheit."
      ]
    },
    {
      "cell_type": "code",
      "metadata": {
        "id": "8JKBnZyvJWl9",
        "colab_type": "code",
        "colab": {
          "base_uri": "https://localhost:8080/",
          "height": 51
        },
        "outputId": "41ce82cb-d507-4629-8ce7-6ee1b9dd550a"
      },
      "source": [
        "deg_celsius = float(input(\"What is the degrees Celsius?\"))\n",
        "deg_fahrenheit = deg_celsius * (9/5) + 32\n",
        "\n",
        "print(\"The temperature is\",deg_fahrenheit, \"degrees Fahrenheit.\")"
      ],
      "execution_count": 4,
      "outputs": [
        {
          "output_type": "stream",
          "text": [
            "What is the degrees Celsius?43\n",
            "The temperature is 109.4 degrees Fahrenheit.\n"
          ],
          "name": "stdout"
        }
      ]
    },
    {
      "cell_type": "markdown",
      "metadata": {
        "id": "bM6YuNUwJb6s",
        "colab_type": "text"
      },
      "source": [
        "Write a program that will compute MPG for a car. Prompt the user to enter the number of miles driven and the number of gallons used. "
      ]
    },
    {
      "cell_type": "code",
      "metadata": {
        "id": "W9FpsAmnJf2t",
        "colab_type": "code",
        "colab": {
          "base_uri": "https://localhost:8080/",
          "height": 68
        },
        "outputId": "22ae2f32-ae7b-4946-f203-b516474efef0"
      },
      "source": [
        "miles_driven = int(input(\"How many miles have you driven?\"))\n",
        "gallons_used = int(input(\"How many gallons have been used?\"))\n",
        "mpg = miles_driven/gallons_used\n",
        "\n",
        "print(mpg)"
      ],
      "execution_count": 5,
      "outputs": [
        {
          "output_type": "stream",
          "text": [
            "How many miles have you driven?12\n",
            "How many gallons have been used?3\n",
            "4.0\n"
          ],
          "name": "stdout"
        }
      ]
    },
    {
      "cell_type": "markdown",
      "metadata": {
        "id": "hv46jKzYJ4dz",
        "colab_type": "text"
      },
      "source": [
        "You have a thermostat that allows you to set the room to any temperature between 40 and 89 degrees.\n",
        "\n",
        "The thermostat can be adjusted by turning a circular dial. For instance, if the temperature is set to 50 degrees and you turn the dial 10 clicks toward the left, you will set the temperature to 40 degrees. But if you keep turning 1 click to the left (represented as -1) it will circle back around to 89 degrees. If you are at 40 degrees and turn to the right by one click, you will get 41 degrees. As you continue to turn to the right, the temperature goes up, and the temperature gets closer and closer to 89 degrees. But as soon as you complete one full rotation (50 clicks), the temperature cycles back around to 40 degrees.\n",
        "\n",
        "Write a program that calculates the temperature based on how much the dial has been turned. The number of clicks (from the starting point of 40 degrees) is contained in a variable. You should print the current temperature for each given click variable"
      ]
    },
    {
      "cell_type": "code",
      "metadata": {
        "id": "-klOYbeYJ518",
        "colab_type": "code",
        "colab": {
          "base_uri": "https://localhost:8080/",
          "height": 119
        },
        "outputId": "81e9f788-e765-4345-e062-0d1758be5657"
      },
      "source": [
        "#For each click variable, calculate the temperature and print it as shown in the instructions\n",
        "\n",
        "base_temp = 40\n",
        "end_temp = 89\n",
        "full_rotation = 50\n",
        "\n",
        "click_1 = 0\n",
        "# TODO calculate the temperature, and report it back to the user\n",
        "print(\"The temperature is\",base_temp+click_1)\n",
        "\n",
        "click_2 = 49\n",
        "# TODO calculate the temperature, and report it back to the user\n",
        "print(\"The temperature is\",base_temp+click_2)\n",
        "\n",
        "click_3 = 74\n",
        "# TODO calculate the temperature, and report it back to the user\n",
        "click_3_temp = (click_3 % full_rotation) + base_temp\n",
        "print(\"The temperature is\", click_3_temp)\n",
        "\n",
        "click_4 = 51\n",
        "# TODO calculate the temperature, and report it back to the user\n",
        "click_4_temp = (click_4 % full_rotation) + base_temp\n",
        "print(\"The temperature is\", click_4_temp)\n",
        "\n",
        "click_5 = -1\n",
        "# TODO calculate the temperature, and report it back to the user\n",
        "click_5_temp = (click_5 % full_rotation) + base_temp\n",
        "print(\"The temperature is\", click_5_temp)\n",
        "\n",
        "click_6 = 200\n",
        "# TODO calculate the temperature, and report it back to the user\n",
        "click_6_temp = (click_6 % full_rotation) + base_temp\n",
        "print(\"The temperature is\", click_6_temp)\n"
      ],
      "execution_count": 6,
      "outputs": [
        {
          "output_type": "stream",
          "text": [
            "The temperature is 40\n",
            "The temperature is 89\n",
            "The temperature is 64\n",
            "The temperature is 41\n",
            "The temperature is 89\n",
            "The temperature is 40\n"
          ],
          "name": "stdout"
        }
      ]
    },
    {
      "cell_type": "markdown",
      "metadata": {
        "id": "UsblrSd0KGYs",
        "colab_type": "text"
      },
      "source": [
        "Write a program that prints out the lyrics to the song “99 Bottles of Beer on the Wall”"
      ]
    },
    {
      "cell_type": "code",
      "metadata": {
        "id": "bvKa2jUIKHIU",
        "colab_type": "code",
        "colab": {}
      },
      "source": [
        "for num in range(99,0,-1):\n",
        "    print(num,\"bottles of beer on the wall\",num,\"bottles of beer. Take one down, pass it around\",num-1,\"bottles of beer on the wall\")"
      ],
      "execution_count": 0,
      "outputs": []
    },
    {
      "cell_type": "markdown",
      "metadata": {
        "id": "TU0AbmsXKM2M",
        "colab_type": "text"
      },
      "source": [
        "Use for loops to make a turtle draw these regular polygons (regular means all sides the same lengths, all angles the same):\n",
        "\n",
        "An equilateral triangle\n",
        "A square\n",
        "A hexagon (six sides)\n",
        "An octagon (eight sides)"
      ]
    },
    {
      "cell_type": "code",
      "metadata": {
        "id": "43IJXoY4KXXu",
        "colab_type": "code",
        "colab": {}
      },
      "source": [
        "import turtle\n",
        "wn = turtle.Screen()\n",
        "alex = turtle.Turtle()\n",
        "\n",
        "for i in range(3):\n",
        "    alex.forward(150)\n",
        "    alex.left(120)\n",
        "    \n",
        "for i in range(4):\n",
        "    alex.forward(100)\n",
        "    alex.left(90)\n",
        "    \n",
        "for i in range(10):\n",
        "    alex.forward(50)\n",
        "    alex.left(36)"
      ],
      "execution_count": 0,
      "outputs": []
    },
    {
      "cell_type": "markdown",
      "metadata": {
        "id": "1CtaFR3sKrJW",
        "colab_type": "text"
      },
      "source": [
        "Write a program to draw a face of a clock with dashes and turtles at each hour."
      ]
    },
    {
      "cell_type": "code",
      "metadata": {
        "id": "qy2dESLvKuQV",
        "colab_type": "code",
        "colab": {}
      },
      "source": [
        "import turtle\n",
        "wn = turtle.Screen()\n",
        "wn.bgcolor('lightgreen')\n",
        "\n",
        "alex = turtle.Turtle()\n",
        "alex.speed(9)\n",
        "alex.shape(\"turtle\")\n",
        "alex.color('blue')\n",
        "alex.stamp()\n",
        "alex.up()\n",
        "\n",
        "for i in range(12):\n",
        "    alex.forward(150)\n",
        "    alex.stamp()\n",
        "    alex.forward(-150)\n",
        "    alex.left(30)\n",
        "    \n",
        "for i in range(12):\n",
        "    alex.forward(90)\n",
        "    alex.down()\n",
        "    alex.forward(10)\n",
        "    alex.up()\n",
        "    alex.forward(-100)\n",
        "    alex.left(30)"
      ],
      "execution_count": 0,
      "outputs": []
    },
    {
      "cell_type": "markdown",
      "metadata": {
        "id": "97yKHIvgK1vL",
        "colab_type": "text"
      },
      "source": [
        "A sprite is a simple spider shaped thing with n legs coming out from a center point. The angle between each leg is 360 / n degrees.\n",
        "\n",
        "Write a program to draw a sprite where the number of legs is provided by the user."
      ]
    },
    {
      "cell_type": "code",
      "metadata": {
        "id": "8uT83n3HK2Mr",
        "colab_type": "code",
        "colab": {}
      },
      "source": [
        "import turtle\n",
        "wn = turtle.Screen()\n",
        "alex = turtle.Turtle()\n",
        "\n",
        "num_legs = int(input(\"How many legs does the sprite have?\"))\n",
        "\n",
        "for i in range(num_legs):\n",
        "    alex.forward(150)\n",
        "    alex.forward(-150)\n",
        "    alex.left(360/num_legs)"
      ],
      "execution_count": 0,
      "outputs": []
    },
    {
      "cell_type": "markdown",
      "metadata": {
        "id": "4yesTateK-8U",
        "colab_type": "text"
      },
      "source": [
        "The Pythagorean Theorem tells us that the length of the hypotenuse of a right triangle is related to the lengths of the other two sides. Look through the math module and see if you can find a function that will compute this relationship for you. Once you find it, write a short program to try it out."
      ]
    },
    {
      "cell_type": "code",
      "metadata": {
        "id": "SQYEm68-K_u7",
        "colab_type": "code",
        "colab": {
          "base_uri": "https://localhost:8080/",
          "height": 34
        },
        "outputId": "c69dcc06-b909-48c4-94d6-368994d57784"
      },
      "source": [
        "import math\n",
        "\n",
        "side1 = 8\n",
        "side2 = 9\n",
        "hypotenuse = math.hypot(side1, side2)\n",
        "\n",
        "print(hypotenuse)\n"
      ],
      "execution_count": 8,
      "outputs": [
        {
          "output_type": "stream",
          "text": [
            "12.041594578792296\n"
          ],
          "name": "stdout"
        }
      ]
    },
    {
      "cell_type": "markdown",
      "metadata": {
        "id": "pi0T23f2LJK3",
        "colab_type": "text"
      },
      "source": [
        "Assume you have a list of numbers nums = [12, 10, 32, 3, 66, 17, 42, 99, 20]. Write a loop that prints each of the numbers on a new line. Then write a second loop that prints each number and its square on a new line."
      ]
    },
    {
      "cell_type": "code",
      "metadata": {
        "id": "5tjsx1a9LPMb",
        "colab_type": "code",
        "colab": {}
      },
      "source": [
        "nums = [12, 10, 32, 3, 66, 17, 42, 99, 20]\n",
        "\n",
        "for num in nums:\n",
        "    print(num)\n",
        "    \n",
        "for num in nums:\n",
        "    print(\"The square of\",num,\"is\",num**2)"
      ],
      "execution_count": 0,
      "outputs": []
    },
    {
      "cell_type": "markdown",
      "metadata": {
        "id": "4vCNC93pLeUN",
        "colab_type": "text"
      },
      "source": [
        "Create two turtles and have them race across the screen from left to right. Using a single call to forward for each turtle, use a random number as the distance to move. Create a for loop, using a random number for the argument passed to the range function. Inside the for loop, move each of the turtles forward by some random number of units."
      ]
    },
    {
      "cell_type": "code",
      "metadata": {
        "id": "gUBOHNZkLrBN",
        "colab_type": "code",
        "colab": {}
      },
      "source": [
        "import turtle              # 1. import the modules\n",
        "import random\n",
        "wn = turtle.Screen()       # 2. Create a screen\n",
        "wn.bgcolor('lightblue')\n",
        "\n",
        "lance = turtle.Turtle()    # 3. Create two turtles\n",
        "andy = turtle.Turtle()\n",
        "lance.color('red')\n",
        "andy.color('blue')\n",
        "lance.shape('turtle')\n",
        "andy.shape('turtle')\n",
        "\n",
        "andy.up()                  # 4. Move the turtles to their starting point\n",
        "lance.up()\n",
        "andy.goto(-100,20)\n",
        "lance.goto(-100,-20)\n",
        "\n",
        "for i in range(random.randrange(0,10)):\n",
        "    andy.forward(random.randrange(1,100))\n",
        "    lance.forward(random.randrange(1,100))\n",
        "\n",
        "wn.exitonclick()"
      ],
      "execution_count": 0,
      "outputs": []
    },
    {
      "cell_type": "markdown",
      "metadata": {
        "id": "nEKZfoEQL78z",
        "colab_type": "text"
      },
      "source": [
        "Write a non-fruitful function draw_equi_triangle(turtle, size) which calls draw_poly to have its turtle draw an equilateral triangle."
      ]
    },
    {
      "cell_type": "code",
      "metadata": {
        "id": "6u2PB51bMcgc",
        "colab_type": "code",
        "colab": {}
      },
      "source": [
        "import turtle\n",
        "\n",
        "def draw_poly(t, sides, side_length):\n",
        "    for i in range(sides):\n",
        "        t.forward(side_length)\n",
        "        t.left(120)\n",
        "        \n",
        "def draw_equi_triangle(t, sides, side_length):\n",
        "    draw_poly(t, sides, side_length)\n",
        "        \n",
        "def main():\n",
        "    wn = turtle.Screen()\n",
        "    wn.bgcolor(\"lightgreen\")\n",
        "\n",
        "    maria = turtle.Turtle()\n",
        "    maria.color(\"hotpink\")\n",
        "    maria.pensize(3)\n",
        "    \n",
        "    draw_equi_triangle(maria, 3, 100)\n",
        "    \n",
        "if __name__ == \"__main__\":\n",
        "    main()\n"
      ],
      "execution_count": 0,
      "outputs": []
    },
    {
      "cell_type": "markdown",
      "metadata": {
        "id": "hxjN4YaXMirs",
        "colab_type": "text"
      },
      "source": [
        "Write a fruitful function sum_to(n) that returns the sum of all integer numbers up to and including n. So sum_to(10) would be 1+2+3...+10 which would return the value 55."
      ]
    },
    {
      "cell_type": "code",
      "metadata": {
        "id": "E6f-hYA1MjNL",
        "colab_type": "code",
        "colab": {
          "base_uri": "https://localhost:8080/",
          "height": 68
        },
        "outputId": "51cdb0aa-6caa-4c2f-83dd-5b528cb7d592"
      },
      "source": [
        "def sum_to(n):\n",
        "    result = (n * (n + 1)) / 2\n",
        "    return result\n",
        "\n",
        "def main():\n",
        "    # Now lets see how well this works\n",
        "    t = sum_to(0)\n",
        "    print(\"The sum from 1 to 13 is\",t)\n",
        "    t = sum_to(10)\n",
        "    print(\"The sum from 1 to 52 is\",t)\n",
        "    t = sum_to(5)\n",
        "    print(\"The sum from 1 to 34 is\",t)\n",
        "\n",
        "if __name__ == \"__main__\":\n",
        "    main()\n"
      ],
      "execution_count": 12,
      "outputs": [
        {
          "output_type": "stream",
          "text": [
            "The sum from 1 to 13 is 0.0\n",
            "The sum from 1 to 52 is 55.0\n",
            "The sum from 1 to 34 is 15.0\n"
          ],
          "name": "stdout"
        }
      ]
    },
    {
      "cell_type": "markdown",
      "metadata": {
        "id": "vOhmPxwFMu6T",
        "colab_type": "text"
      },
      "source": [
        "Draw five stars, but between each, pick up the pen, move forward by 350 units, turn right by 144, put the pen down, and draw the next star."
      ]
    },
    {
      "cell_type": "code",
      "metadata": {
        "id": "lJ05avIvMvaF",
        "colab_type": "code",
        "colab": {}
      },
      "source": [
        "import turtle\n",
        "\n",
        "def star_lines(t, length, angle):\n",
        "    t.forward(length)\n",
        "    t.right(angle) \n",
        "    \n",
        "def move_star(t, distance, angle):\n",
        "    t.up()\n",
        "    t.forward(distance)\n",
        "    t.right(angle)\n",
        "    t.down()\n",
        "    \n",
        "def draw_stars(t, distance, angle, length):\n",
        "    for i in range(5):\n",
        "        star_lines(t, length, angle)\n",
        "    \n",
        "    move_star(t, distance, angle)\n",
        "    \n",
        "def main():\n",
        "    wn = turtle.Screen()\n",
        "    wn.bgcolor(\"lightgreen\")\n",
        "    alex = turtle.Turtle()\n",
        "    alex.speed(9)\n",
        "    alex.color(\"hotpink\")\n",
        "    alex.pensize(3)\n",
        "    alex.up()\n",
        "    alex.goto(-180,40)\n",
        "    alex.down()\n",
        "    \n",
        "    for i in range(5):\n",
        "        draw_stars(alex, 350, 144, 100)\n",
        "    \n",
        "       \n",
        "if __name__ == \"__main__\":\n",
        "    main()\n",
        "\n"
      ],
      "execution_count": 0,
      "outputs": []
    },
    {
      "cell_type": "markdown",
      "metadata": {
        "id": "I_AB6GqwM44r",
        "colab_type": "text"
      },
      "source": [
        "Draw an n pointed star. n must be an odd number greater or equal to 3."
      ]
    },
    {
      "cell_type": "code",
      "metadata": {
        "id": "MPnNefy0M-Jt",
        "colab_type": "code",
        "colab": {}
      },
      "source": [
        "import turtle\n",
        "\n",
        "def draw_star(t, length, angle):\n",
        "    t.forward(length)\n",
        "    t.right(angle)\n",
        "   \n",
        "    \n",
        "def main():\n",
        "    wn = turtle.Screen()\n",
        "    alex = turtle.Turtle()\n",
        "    alex.goto(-50,0)\n",
        "\n",
        "    n = 7\n",
        "    \n",
        "    for i in range(n):\n",
        "        draw_star(alex, 75, (180/n)+180)\n",
        "       \n",
        "if __name__ == \"__main__\":\n",
        "    main()"
      ],
      "execution_count": 0,
      "outputs": []
    },
    {
      "cell_type": "markdown",
      "metadata": {
        "id": "3Bs0j1l_NFcT",
        "colab_type": "text"
      },
      "source": [
        "Rewrite the function sum_to(n) that returns the sum of all integer numbers up to and including n. This time use the accumulator pattern."
      ]
    },
    {
      "cell_type": "code",
      "metadata": {
        "id": "r3PRo6WyNF_L",
        "colab_type": "code",
        "colab": {
          "base_uri": "https://localhost:8080/",
          "height": 34
        },
        "outputId": "8da7666d-830b-48e9-d92a-6a7479ac98d7"
      },
      "source": [
        "def sum_to(n):\n",
        "    sum = 0\n",
        "    for i in range(1,n+1):\n",
        "        sum = sum + i\n",
        "    return sum\n",
        "\n",
        "def main():\n",
        "    n = 72\n",
        "    t = sum_to(n)\n",
        "    print(\"The sum from 1 to\",n,\"is\",t)\n",
        "\n",
        "if __name__ == \"__main__\":\n",
        "    main()"
      ],
      "execution_count": 14,
      "outputs": [
        {
          "output_type": "stream",
          "text": [
            "The sum from 1 to 72 is 2628\n"
          ],
          "name": "stdout"
        }
      ]
    },
    {
      "cell_type": "markdown",
      "metadata": {
        "id": "mCWQMSruNPnQ",
        "colab_type": "text"
      },
      "source": [
        "Write a function called fancy_square that will draw a square with fancy corners (sprites on the corners)."
      ]
    },
    {
      "cell_type": "code",
      "metadata": {
        "id": "VvyTCAWXNQCF",
        "colab_type": "code",
        "colab": {}
      },
      "source": [
        "import turtle\n",
        "\n",
        "def draw_sprite(t, num_legs, spritelen):\n",
        "    \n",
        "    for i in range(int(num_legs/2)):\n",
        "        t.left(360/num_legs)\n",
        "        t.forward(spritelen/2)\n",
        "        t.left(180)\n",
        "        t.forward(spritelen)\n",
        "        t.left(180)\n",
        "        t.forward(spritelen/2)\n",
        "        \n",
        "def draw_square(t, length, num_legs, spritelen):\n",
        "    for i in range(4):\n",
        "        t.forward(length)\n",
        "        draw_sprite(t, num_legs, spritelen)\n",
        "        t.left(90)\n",
        "    \n",
        "def main():\n",
        "    wn = turtle.Screen()\n",
        "    alex = turtle.Turtle()\n",
        "    alex.speed(9)\n",
        "        \n",
        "    draw_square(alex, 100, 8, 50)\n",
        "    \n",
        "if __name__ == \"__main__\":\n",
        "    main()\n"
      ],
      "execution_count": 0,
      "outputs": []
    },
    {
      "cell_type": "markdown",
      "metadata": {
        "id": "ik_SLBfVNe3w",
        "colab_type": "text"
      },
      "source": [
        "Write a function area_of_circle(r) which returns the area of a circle of radius r."
      ]
    },
    {
      "cell_type": "code",
      "metadata": {
        "id": "TGTM8uMwNf8c",
        "colab_type": "code",
        "colab": {
          "base_uri": "https://localhost:8080/",
          "height": 34
        },
        "outputId": "ce93d749-c56c-4bad-c838-e95b21d67251"
      },
      "source": [
        "import math\n",
        "\n",
        "def area_of_circle(r):\n",
        "    area = math.pi * (r**2)\n",
        "    return area\n",
        "\n",
        "r = 5\n",
        "print(area_of_circle(r))"
      ],
      "execution_count": 15,
      "outputs": [
        {
          "output_type": "stream",
          "text": [
            "78.53981633974483\n"
          ],
          "name": "stdout"
        }
      ]
    }
  ]
}